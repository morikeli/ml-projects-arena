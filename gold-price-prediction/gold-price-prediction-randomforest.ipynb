{
 "cells": [
  {
   "cell_type": "markdown",
   "id": "86fc4dd9-85a6-4230-bcb9-9989d385063f",
   "metadata": {},
   "source": [
    "# Gold price prediction using Random Forest"
   ]
  },
  {
   "cell_type": "markdown",
   "id": "fd889f55-e44c-4c72-83fa-27056dcec273",
   "metadata": {},
   "source": [
    "### Importing python libraries"
   ]
  },
  {
   "cell_type": "code",
   "execution_count": 16,
   "id": "44b34f08-0873-4ad1-a5b6-632b3a605769",
   "metadata": {},
   "outputs": [],
   "source": [
    "from sklearn.model_selection import train_test_split\n",
    "from sklearn.ensemble import RandomForestRegressor\n",
    "from sklearn.metrics import r2_score\n",
    "import matplotlib.pyplot as plt\n",
    "import pandas as pd\n",
    "import numpy as np"
   ]
  },
  {
   "cell_type": "markdown",
   "id": "edb3774f-ec8a-4952-b86d-7569a10780e5",
   "metadata": {},
   "source": [
    "### Data collection and preprocessing"
   ]
  },
  {
   "cell_type": "code",
   "execution_count": 2,
   "id": "0a33d663-af67-46d7-a763-b5d49029e8a8",
   "metadata": {},
   "outputs": [],
   "source": [
    "df = pd.read_csv('dataset/gold-price-dataset.csv')"
   ]
  },
  {
   "cell_type": "code",
   "execution_count": 3,
   "id": "e4c6a744-75c0-4d1a-87da-95f1876f06eb",
   "metadata": {},
   "outputs": [
    {
     "data": {
      "text/html": [
       "<div>\n",
       "<style scoped>\n",
       "    .dataframe tbody tr th:only-of-type {\n",
       "        vertical-align: middle;\n",
       "    }\n",
       "\n",
       "    .dataframe tbody tr th {\n",
       "        vertical-align: top;\n",
       "    }\n",
       "\n",
       "    .dataframe thead th {\n",
       "        text-align: right;\n",
       "    }\n",
       "</style>\n",
       "<table border=\"1\" class=\"dataframe\">\n",
       "  <thead>\n",
       "    <tr style=\"text-align: right;\">\n",
       "      <th></th>\n",
       "      <th>Date</th>\n",
       "      <th>SPX</th>\n",
       "      <th>GLD</th>\n",
       "      <th>USO</th>\n",
       "      <th>SLV</th>\n",
       "      <th>EUR/USD</th>\n",
       "    </tr>\n",
       "  </thead>\n",
       "  <tbody>\n",
       "    <tr>\n",
       "      <th>0</th>\n",
       "      <td>1/2/2008</td>\n",
       "      <td>1447.160034</td>\n",
       "      <td>84.860001</td>\n",
       "      <td>78.470001</td>\n",
       "      <td>15.180000</td>\n",
       "      <td>1.471692</td>\n",
       "    </tr>\n",
       "    <tr>\n",
       "      <th>1</th>\n",
       "      <td>1/3/2008</td>\n",
       "      <td>1447.160034</td>\n",
       "      <td>85.570000</td>\n",
       "      <td>78.370003</td>\n",
       "      <td>15.285000</td>\n",
       "      <td>1.474491</td>\n",
       "    </tr>\n",
       "    <tr>\n",
       "      <th>2</th>\n",
       "      <td>1/4/2008</td>\n",
       "      <td>1411.630005</td>\n",
       "      <td>85.129997</td>\n",
       "      <td>77.309998</td>\n",
       "      <td>15.167000</td>\n",
       "      <td>1.475492</td>\n",
       "    </tr>\n",
       "    <tr>\n",
       "      <th>3</th>\n",
       "      <td>1/7/2008</td>\n",
       "      <td>1416.180054</td>\n",
       "      <td>84.769997</td>\n",
       "      <td>75.500000</td>\n",
       "      <td>15.053000</td>\n",
       "      <td>1.468299</td>\n",
       "    </tr>\n",
       "    <tr>\n",
       "      <th>4</th>\n",
       "      <td>1/8/2008</td>\n",
       "      <td>1390.189941</td>\n",
       "      <td>86.779999</td>\n",
       "      <td>76.059998</td>\n",
       "      <td>15.590000</td>\n",
       "      <td>1.557099</td>\n",
       "    </tr>\n",
       "    <tr>\n",
       "      <th>5</th>\n",
       "      <td>1/9/2008</td>\n",
       "      <td>1409.130005</td>\n",
       "      <td>86.550003</td>\n",
       "      <td>75.250000</td>\n",
       "      <td>15.520000</td>\n",
       "      <td>1.466405</td>\n",
       "    </tr>\n",
       "    <tr>\n",
       "      <th>6</th>\n",
       "      <td>1/10/2008</td>\n",
       "      <td>1420.329956</td>\n",
       "      <td>88.250000</td>\n",
       "      <td>74.019997</td>\n",
       "      <td>16.061001</td>\n",
       "      <td>1.480100</td>\n",
       "    </tr>\n",
       "    <tr>\n",
       "      <th>7</th>\n",
       "      <td>1/11/2008</td>\n",
       "      <td>1401.020020</td>\n",
       "      <td>88.580002</td>\n",
       "      <td>73.089996</td>\n",
       "      <td>16.077000</td>\n",
       "      <td>1.479006</td>\n",
       "    </tr>\n",
       "    <tr>\n",
       "      <th>8</th>\n",
       "      <td>1/14/2008</td>\n",
       "      <td>1416.250000</td>\n",
       "      <td>89.540001</td>\n",
       "      <td>74.250000</td>\n",
       "      <td>16.280001</td>\n",
       "      <td>1.486900</td>\n",
       "    </tr>\n",
       "    <tr>\n",
       "      <th>9</th>\n",
       "      <td>1/15/2008</td>\n",
       "      <td>1380.949951</td>\n",
       "      <td>87.989998</td>\n",
       "      <td>72.779999</td>\n",
       "      <td>15.834000</td>\n",
       "      <td>1.480210</td>\n",
       "    </tr>\n",
       "  </tbody>\n",
       "</table>\n",
       "</div>"
      ],
      "text/plain": [
       "        Date          SPX        GLD        USO        SLV   EUR/USD\n",
       "0   1/2/2008  1447.160034  84.860001  78.470001  15.180000  1.471692\n",
       "1   1/3/2008  1447.160034  85.570000  78.370003  15.285000  1.474491\n",
       "2   1/4/2008  1411.630005  85.129997  77.309998  15.167000  1.475492\n",
       "3   1/7/2008  1416.180054  84.769997  75.500000  15.053000  1.468299\n",
       "4   1/8/2008  1390.189941  86.779999  76.059998  15.590000  1.557099\n",
       "5   1/9/2008  1409.130005  86.550003  75.250000  15.520000  1.466405\n",
       "6  1/10/2008  1420.329956  88.250000  74.019997  16.061001  1.480100\n",
       "7  1/11/2008  1401.020020  88.580002  73.089996  16.077000  1.479006\n",
       "8  1/14/2008  1416.250000  89.540001  74.250000  16.280001  1.486900\n",
       "9  1/15/2008  1380.949951  87.989998  72.779999  15.834000  1.480210"
      ]
     },
     "execution_count": 3,
     "metadata": {},
     "output_type": "execute_result"
    }
   ],
   "source": [
    "df.head(n=10)"
   ]
  },
  {
   "cell_type": "markdown",
   "id": "e1b15972-ca0b-44e5-bc96-0dd9509da400",
   "metadata": {},
   "source": [
    "#### Total features"
   ]
  },
  {
   "cell_type": "code",
   "execution_count": 4,
   "id": "4ba98446-bb9c-4439-8ac3-dd22e94cb3e5",
   "metadata": {},
   "outputs": [
    {
     "data": {
      "text/plain": [
       "(2290, 6)"
      ]
     },
     "execution_count": 4,
     "metadata": {},
     "output_type": "execute_result"
    }
   ],
   "source": [
    "df.shape"
   ]
  },
  {
   "cell_type": "markdown",
   "id": "9eb0cf31-6fc5-4a34-b576-56c3abdb4b61",
   "metadata": {},
   "source": [
    "#### Statistical measures"
   ]
  },
  {
   "cell_type": "code",
   "execution_count": 5,
   "id": "757f5f08-bfab-42ba-a90e-e5a2ad39ec57",
   "metadata": {},
   "outputs": [
    {
     "data": {
      "text/html": [
       "<div>\n",
       "<style scoped>\n",
       "    .dataframe tbody tr th:only-of-type {\n",
       "        vertical-align: middle;\n",
       "    }\n",
       "\n",
       "    .dataframe tbody tr th {\n",
       "        vertical-align: top;\n",
       "    }\n",
       "\n",
       "    .dataframe thead th {\n",
       "        text-align: right;\n",
       "    }\n",
       "</style>\n",
       "<table border=\"1\" class=\"dataframe\">\n",
       "  <thead>\n",
       "    <tr style=\"text-align: right;\">\n",
       "      <th></th>\n",
       "      <th>SPX</th>\n",
       "      <th>GLD</th>\n",
       "      <th>USO</th>\n",
       "      <th>SLV</th>\n",
       "      <th>EUR/USD</th>\n",
       "    </tr>\n",
       "  </thead>\n",
       "  <tbody>\n",
       "    <tr>\n",
       "      <th>count</th>\n",
       "      <td>2290.000000</td>\n",
       "      <td>2290.000000</td>\n",
       "      <td>2290.000000</td>\n",
       "      <td>2290.000000</td>\n",
       "      <td>2290.000000</td>\n",
       "    </tr>\n",
       "    <tr>\n",
       "      <th>mean</th>\n",
       "      <td>1654.315776</td>\n",
       "      <td>122.732875</td>\n",
       "      <td>31.842221</td>\n",
       "      <td>20.084997</td>\n",
       "      <td>1.283653</td>\n",
       "    </tr>\n",
       "    <tr>\n",
       "      <th>std</th>\n",
       "      <td>519.111540</td>\n",
       "      <td>23.283346</td>\n",
       "      <td>19.523517</td>\n",
       "      <td>7.092566</td>\n",
       "      <td>0.131547</td>\n",
       "    </tr>\n",
       "    <tr>\n",
       "      <th>min</th>\n",
       "      <td>676.530029</td>\n",
       "      <td>70.000000</td>\n",
       "      <td>7.960000</td>\n",
       "      <td>8.850000</td>\n",
       "      <td>1.039047</td>\n",
       "    </tr>\n",
       "    <tr>\n",
       "      <th>25%</th>\n",
       "      <td>1239.874969</td>\n",
       "      <td>109.725000</td>\n",
       "      <td>14.380000</td>\n",
       "      <td>15.570000</td>\n",
       "      <td>1.171313</td>\n",
       "    </tr>\n",
       "    <tr>\n",
       "      <th>50%</th>\n",
       "      <td>1551.434998</td>\n",
       "      <td>120.580002</td>\n",
       "      <td>33.869999</td>\n",
       "      <td>17.268500</td>\n",
       "      <td>1.303297</td>\n",
       "    </tr>\n",
       "    <tr>\n",
       "      <th>75%</th>\n",
       "      <td>2073.010070</td>\n",
       "      <td>132.840004</td>\n",
       "      <td>37.827501</td>\n",
       "      <td>22.882500</td>\n",
       "      <td>1.369971</td>\n",
       "    </tr>\n",
       "    <tr>\n",
       "      <th>max</th>\n",
       "      <td>2872.870117</td>\n",
       "      <td>184.589996</td>\n",
       "      <td>117.480003</td>\n",
       "      <td>47.259998</td>\n",
       "      <td>1.598798</td>\n",
       "    </tr>\n",
       "  </tbody>\n",
       "</table>\n",
       "</div>"
      ],
      "text/plain": [
       "               SPX          GLD          USO          SLV      EUR/USD\n",
       "count  2290.000000  2290.000000  2290.000000  2290.000000  2290.000000\n",
       "mean   1654.315776   122.732875    31.842221    20.084997     1.283653\n",
       "std     519.111540    23.283346    19.523517     7.092566     0.131547\n",
       "min     676.530029    70.000000     7.960000     8.850000     1.039047\n",
       "25%    1239.874969   109.725000    14.380000    15.570000     1.171313\n",
       "50%    1551.434998   120.580002    33.869999    17.268500     1.303297\n",
       "75%    2073.010070   132.840004    37.827501    22.882500     1.369971\n",
       "max    2872.870117   184.589996   117.480003    47.259998     1.598798"
      ]
     },
     "execution_count": 5,
     "metadata": {},
     "output_type": "execute_result"
    }
   ],
   "source": [
    "df.describe()"
   ]
  },
  {
   "cell_type": "markdown",
   "id": "11b08172-b9f2-498d-b983-ae7a8e82aabe",
   "metadata": {},
   "source": [
    "#### Check for missing values"
   ]
  },
  {
   "cell_type": "code",
   "execution_count": 6,
   "id": "59eca042-d766-43a8-b992-be56781fd35c",
   "metadata": {},
   "outputs": [
    {
     "data": {
      "text/plain": [
       "Date       0\n",
       "SPX        0\n",
       "GLD        0\n",
       "USO        0\n",
       "SLV        0\n",
       "EUR/USD    0\n",
       "dtype: int64"
      ]
     },
     "execution_count": 6,
     "metadata": {},
     "output_type": "execute_result"
    }
   ],
   "source": [
    "df.isnull().sum()"
   ]
  },
  {
   "cell_type": "markdown",
   "id": "3d3d629b-7301-477f-ab2f-5bdca7ec64a2",
   "metadata": {},
   "source": [
    "**NOTE:** No missing values in the dataset "
   ]
  },
  {
   "cell_type": "markdown",
   "id": "7a374454-5cc7-480f-b9fc-af7de616c753",
   "metadata": {},
   "source": [
    "### Splitting features and target"
   ]
  },
  {
   "cell_type": "code",
   "execution_count": 7,
   "id": "186f68e4-33d0-4558-89ad-b4e808f4cee9",
   "metadata": {},
   "outputs": [],
   "source": [
    "X = df.drop(columns=['Date', 'GLD'], axis=1)\n",
    "y = df['GLD']"
   ]
  },
  {
   "cell_type": "code",
   "execution_count": 8,
   "id": "5a73c9e8-3500-41dc-bad4-2bed30bbe9e4",
   "metadata": {},
   "outputs": [
    {
     "data": {
      "text/html": [
       "<div>\n",
       "<style scoped>\n",
       "    .dataframe tbody tr th:only-of-type {\n",
       "        vertical-align: middle;\n",
       "    }\n",
       "\n",
       "    .dataframe tbody tr th {\n",
       "        vertical-align: top;\n",
       "    }\n",
       "\n",
       "    .dataframe thead th {\n",
       "        text-align: right;\n",
       "    }\n",
       "</style>\n",
       "<table border=\"1\" class=\"dataframe\">\n",
       "  <thead>\n",
       "    <tr style=\"text-align: right;\">\n",
       "      <th></th>\n",
       "      <th>SPX</th>\n",
       "      <th>USO</th>\n",
       "      <th>SLV</th>\n",
       "      <th>EUR/USD</th>\n",
       "    </tr>\n",
       "  </thead>\n",
       "  <tbody>\n",
       "    <tr>\n",
       "      <th>0</th>\n",
       "      <td>1447.160034</td>\n",
       "      <td>78.470001</td>\n",
       "      <td>15.1800</td>\n",
       "      <td>1.471692</td>\n",
       "    </tr>\n",
       "    <tr>\n",
       "      <th>1</th>\n",
       "      <td>1447.160034</td>\n",
       "      <td>78.370003</td>\n",
       "      <td>15.2850</td>\n",
       "      <td>1.474491</td>\n",
       "    </tr>\n",
       "    <tr>\n",
       "      <th>2</th>\n",
       "      <td>1411.630005</td>\n",
       "      <td>77.309998</td>\n",
       "      <td>15.1670</td>\n",
       "      <td>1.475492</td>\n",
       "    </tr>\n",
       "    <tr>\n",
       "      <th>3</th>\n",
       "      <td>1416.180054</td>\n",
       "      <td>75.500000</td>\n",
       "      <td>15.0530</td>\n",
       "      <td>1.468299</td>\n",
       "    </tr>\n",
       "    <tr>\n",
       "      <th>4</th>\n",
       "      <td>1390.189941</td>\n",
       "      <td>76.059998</td>\n",
       "      <td>15.5900</td>\n",
       "      <td>1.557099</td>\n",
       "    </tr>\n",
       "    <tr>\n",
       "      <th>...</th>\n",
       "      <td>...</td>\n",
       "      <td>...</td>\n",
       "      <td>...</td>\n",
       "      <td>...</td>\n",
       "    </tr>\n",
       "    <tr>\n",
       "      <th>2285</th>\n",
       "      <td>2671.919922</td>\n",
       "      <td>14.060000</td>\n",
       "      <td>15.5100</td>\n",
       "      <td>1.186789</td>\n",
       "    </tr>\n",
       "    <tr>\n",
       "      <th>2286</th>\n",
       "      <td>2697.790039</td>\n",
       "      <td>14.370000</td>\n",
       "      <td>15.5300</td>\n",
       "      <td>1.184722</td>\n",
       "    </tr>\n",
       "    <tr>\n",
       "      <th>2287</th>\n",
       "      <td>2723.070068</td>\n",
       "      <td>14.410000</td>\n",
       "      <td>15.7400</td>\n",
       "      <td>1.191753</td>\n",
       "    </tr>\n",
       "    <tr>\n",
       "      <th>2288</th>\n",
       "      <td>2730.129883</td>\n",
       "      <td>14.380000</td>\n",
       "      <td>15.5600</td>\n",
       "      <td>1.193118</td>\n",
       "    </tr>\n",
       "    <tr>\n",
       "      <th>2289</th>\n",
       "      <td>2725.780029</td>\n",
       "      <td>14.405800</td>\n",
       "      <td>15.4542</td>\n",
       "      <td>1.182033</td>\n",
       "    </tr>\n",
       "  </tbody>\n",
       "</table>\n",
       "<p>2290 rows × 4 columns</p>\n",
       "</div>"
      ],
      "text/plain": [
       "              SPX        USO      SLV   EUR/USD\n",
       "0     1447.160034  78.470001  15.1800  1.471692\n",
       "1     1447.160034  78.370003  15.2850  1.474491\n",
       "2     1411.630005  77.309998  15.1670  1.475492\n",
       "3     1416.180054  75.500000  15.0530  1.468299\n",
       "4     1390.189941  76.059998  15.5900  1.557099\n",
       "...           ...        ...      ...       ...\n",
       "2285  2671.919922  14.060000  15.5100  1.186789\n",
       "2286  2697.790039  14.370000  15.5300  1.184722\n",
       "2287  2723.070068  14.410000  15.7400  1.191753\n",
       "2288  2730.129883  14.380000  15.5600  1.193118\n",
       "2289  2725.780029  14.405800  15.4542  1.182033\n",
       "\n",
       "[2290 rows x 4 columns]"
      ]
     },
     "execution_count": 8,
     "metadata": {},
     "output_type": "execute_result"
    }
   ],
   "source": [
    "X"
   ]
  },
  {
   "cell_type": "code",
   "execution_count": 10,
   "id": "66beded8-55bb-4535-852d-b239d3f37d34",
   "metadata": {},
   "outputs": [
    {
     "data": {
      "text/plain": [
       "0        84.860001\n",
       "1        85.570000\n",
       "2        85.129997\n",
       "3        84.769997\n",
       "4        86.779999\n",
       "           ...    \n",
       "2285    124.589996\n",
       "2286    124.330002\n",
       "2287    125.180000\n",
       "2288    124.489998\n",
       "2289    122.543800\n",
       "Name: GLD, Length: 2290, dtype: float64"
      ]
     },
     "execution_count": 10,
     "metadata": {},
     "output_type": "execute_result"
    }
   ],
   "source": [
    "y  # gold prices"
   ]
  },
  {
   "cell_type": "markdown",
   "id": "593b541e-9964-41d6-9f1c-6d06719ea260",
   "metadata": {},
   "source": [
    "### Split data into training data and testing data"
   ]
  },
  {
   "cell_type": "code",
   "execution_count": 11,
   "id": "91d156cf-6763-45f9-974a-731e7d857c0e",
   "metadata": {},
   "outputs": [],
   "source": [
    "X_train, X_test, y_train, y_test = train_test_split(X, y, test_size=0.2, random_state=2)"
   ]
  },
  {
   "cell_type": "markdown",
   "id": "8af11792-3f83-482a-8671-24e85787b042",
   "metadata": {},
   "source": [
    "#### Model training: RandomForestRegressor"
   ]
  },
  {
   "cell_type": "code",
   "execution_count": 13,
   "id": "f62c351f-1720-44a6-84ea-fadd011e76ea",
   "metadata": {},
   "outputs": [],
   "source": [
    "model = RandomForestRegressor(n_estimators=100)"
   ]
  },
  {
   "cell_type": "code",
   "execution_count": 14,
   "id": "8ffb282a-97c7-4d20-9f76-d9134509d4bd",
   "metadata": {},
   "outputs": [
    {
     "data": {
      "text/html": [
       "<style>#sk-container-id-1 {color: black;}#sk-container-id-1 pre{padding: 0;}#sk-container-id-1 div.sk-toggleable {background-color: white;}#sk-container-id-1 label.sk-toggleable__label {cursor: pointer;display: block;width: 100%;margin-bottom: 0;padding: 0.3em;box-sizing: border-box;text-align: center;}#sk-container-id-1 label.sk-toggleable__label-arrow:before {content: \"▸\";float: left;margin-right: 0.25em;color: #696969;}#sk-container-id-1 label.sk-toggleable__label-arrow:hover:before {color: black;}#sk-container-id-1 div.sk-estimator:hover label.sk-toggleable__label-arrow:before {color: black;}#sk-container-id-1 div.sk-toggleable__content {max-height: 0;max-width: 0;overflow: hidden;text-align: left;background-color: #f0f8ff;}#sk-container-id-1 div.sk-toggleable__content pre {margin: 0.2em;color: black;border-radius: 0.25em;background-color: #f0f8ff;}#sk-container-id-1 input.sk-toggleable__control:checked~div.sk-toggleable__content {max-height: 200px;max-width: 100%;overflow: auto;}#sk-container-id-1 input.sk-toggleable__control:checked~label.sk-toggleable__label-arrow:before {content: \"▾\";}#sk-container-id-1 div.sk-estimator input.sk-toggleable__control:checked~label.sk-toggleable__label {background-color: #d4ebff;}#sk-container-id-1 div.sk-label input.sk-toggleable__control:checked~label.sk-toggleable__label {background-color: #d4ebff;}#sk-container-id-1 input.sk-hidden--visually {border: 0;clip: rect(1px 1px 1px 1px);clip: rect(1px, 1px, 1px, 1px);height: 1px;margin: -1px;overflow: hidden;padding: 0;position: absolute;width: 1px;}#sk-container-id-1 div.sk-estimator {font-family: monospace;background-color: #f0f8ff;border: 1px dotted black;border-radius: 0.25em;box-sizing: border-box;margin-bottom: 0.5em;}#sk-container-id-1 div.sk-estimator:hover {background-color: #d4ebff;}#sk-container-id-1 div.sk-parallel-item::after {content: \"\";width: 100%;border-bottom: 1px solid gray;flex-grow: 1;}#sk-container-id-1 div.sk-label:hover label.sk-toggleable__label {background-color: #d4ebff;}#sk-container-id-1 div.sk-serial::before {content: \"\";position: absolute;border-left: 1px solid gray;box-sizing: border-box;top: 0;bottom: 0;left: 50%;z-index: 0;}#sk-container-id-1 div.sk-serial {display: flex;flex-direction: column;align-items: center;background-color: white;padding-right: 0.2em;padding-left: 0.2em;position: relative;}#sk-container-id-1 div.sk-item {position: relative;z-index: 1;}#sk-container-id-1 div.sk-parallel {display: flex;align-items: stretch;justify-content: center;background-color: white;position: relative;}#sk-container-id-1 div.sk-item::before, #sk-container-id-1 div.sk-parallel-item::before {content: \"\";position: absolute;border-left: 1px solid gray;box-sizing: border-box;top: 0;bottom: 0;left: 50%;z-index: -1;}#sk-container-id-1 div.sk-parallel-item {display: flex;flex-direction: column;z-index: 1;position: relative;background-color: white;}#sk-container-id-1 div.sk-parallel-item:first-child::after {align-self: flex-end;width: 50%;}#sk-container-id-1 div.sk-parallel-item:last-child::after {align-self: flex-start;width: 50%;}#sk-container-id-1 div.sk-parallel-item:only-child::after {width: 0;}#sk-container-id-1 div.sk-dashed-wrapped {border: 1px dashed gray;margin: 0 0.4em 0.5em 0.4em;box-sizing: border-box;padding-bottom: 0.4em;background-color: white;}#sk-container-id-1 div.sk-label label {font-family: monospace;font-weight: bold;display: inline-block;line-height: 1.2em;}#sk-container-id-1 div.sk-label-container {text-align: center;}#sk-container-id-1 div.sk-container {/* jupyter's `normalize.less` sets `[hidden] { display: none; }` but bootstrap.min.css set `[hidden] { display: none !important; }` so we also need the `!important` here to be able to override the default hidden behavior on the sphinx rendered scikit-learn.org. See: https://github.com/scikit-learn/scikit-learn/issues/21755 */display: inline-block !important;position: relative;}#sk-container-id-1 div.sk-text-repr-fallback {display: none;}</style><div id=\"sk-container-id-1\" class=\"sk-top-container\"><div class=\"sk-text-repr-fallback\"><pre>RandomForestRegressor()</pre><b>In a Jupyter environment, please rerun this cell to show the HTML representation or trust the notebook. <br />On GitHub, the HTML representation is unable to render, please try loading this page with nbviewer.org.</b></div><div class=\"sk-container\" hidden><div class=\"sk-item\"><div class=\"sk-estimator sk-toggleable\"><input class=\"sk-toggleable__control sk-hidden--visually\" id=\"sk-estimator-id-1\" type=\"checkbox\" checked><label for=\"sk-estimator-id-1\" class=\"sk-toggleable__label sk-toggleable__label-arrow\">RandomForestRegressor</label><div class=\"sk-toggleable__content\"><pre>RandomForestRegressor()</pre></div></div></div></div></div>"
      ],
      "text/plain": [
       "RandomForestRegressor()"
      ]
     },
     "execution_count": 14,
     "metadata": {},
     "output_type": "execute_result"
    }
   ],
   "source": [
    "model.fit(X_train, y_train)"
   ]
  },
  {
   "cell_type": "markdown",
   "id": "9b8d8888-ad6e-4ef4-84de-a0805f6fda32",
   "metadata": {},
   "source": [
    "#### model evaluation - accuracy"
   ]
  },
  {
   "cell_type": "code",
   "execution_count": 18,
   "id": "7b7f6b69-d4c7-4f12-83ab-22f2e21f347e",
   "metadata": {},
   "outputs": [],
   "source": [
    "test_data_prediction = model.predict(X_test)"
   ]
  },
  {
   "cell_type": "code",
   "execution_count": 19,
   "id": "18596ede-08b9-4548-8950-6ddc1c7ee063",
   "metadata": {},
   "outputs": [
    {
     "data": {
      "text/plain": [
       "array([168.68129977,  81.84759979, 116.09939999, 127.76150049,\n",
       "       120.56250135, 154.71759746, 150.23369835, 126.11420028,\n",
       "       117.54849864, 126.00430078, 116.94930056, 171.45520065,\n",
       "       141.54599918, 167.54579832, 115.23830022, 117.7382005 ,\n",
       "       139.30010301, 170.05430036, 159.87360384, 161.50379919,\n",
       "       155.1572004 , 125.46290056, 175.97889946, 157.43450335,\n",
       "       125.22740038,  93.9628003 ,  77.26730027, 120.44790015,\n",
       "       119.14159977, 167.37859999,  88.1832008 , 125.25680005,\n",
       "        91.34990074, 117.65569994, 120.99529911, 136.58100086,\n",
       "       115.39700148, 114.98000092, 148.8342    , 107.17980132,\n",
       "       104.12720212,  87.27229785, 126.46990033, 118.08529984,\n",
       "       153.77899934, 119.6583999 , 108.34579984, 108.23589812,\n",
       "        93.14250065, 127.0921979 ,  74.56860058, 113.76529869,\n",
       "       121.30849996, 111.26059883, 118.80979901, 120.84219939,\n",
       "       158.10769984, 166.18360151, 146.99319703,  85.89929851,\n",
       "        94.37220019,  87.00669886,  90.48219993, 118.9083008 ,\n",
       "       126.46710062, 127.58699994, 170.12330043, 122.34239971,\n",
       "       117.31959886,  98.66540025, 168.50960073, 143.38509925,\n",
       "       131.91280229, 121.13340234, 120.94069907, 119.59670033,\n",
       "       114.59740139, 118.08180076, 107.14840094, 127.87080089,\n",
       "       113.88269969, 107.54160025, 116.71800051, 119.70419878,\n",
       "        89.10630073,  88.14679866, 146.75030211, 127.08040016,\n",
       "       113.34370061, 110.24439851, 108.19809922,  77.74659889,\n",
       "       169.11040069, 113.99379908, 121.70949882, 128.02240188,\n",
       "       155.01249797,  91.56589963, 135.6450007 , 159.03360392,\n",
       "       124.9956008 , 125.46810066, 130.57310199, 114.84700095,\n",
       "       119.76939982,  92.10450004, 110.34849892, 166.56269895,\n",
       "       157.61349914, 114.22219968, 106.7804012 ,  79.69909976,\n",
       "       113.18490034, 125.79480059, 107.18029952, 118.85600087,\n",
       "       155.41100299, 159.72709848, 120.5124998 , 134.59840264,\n",
       "       101.48419997, 117.561998  , 119.4487003 , 112.98950056,\n",
       "       102.81979917, 160.01509733,  98.91920021, 146.81169879,\n",
       "       125.68300104, 170.19359914, 125.95269881, 127.36689736,\n",
       "       127.27000169, 113.5305993 , 112.72690055, 123.17589943,\n",
       "       102.28509909,  89.36340013, 124.51319961, 101.60719971,\n",
       "       107.04679929, 113.40150056, 117.30730074,  99.34289942,\n",
       "       121.71730055, 163.00649908,  87.56009845, 106.88589986,\n",
       "       117.34860077, 127.78080137, 123.96730049,  80.77729914,\n",
       "       120.38090098, 157.60989823,  88.11549963, 110.31319931,\n",
       "       118.98749924, 172.23189859, 103.01849895, 105.58490027,\n",
       "       122.58420033, 158.35929775,  87.80839806,  92.95720081,\n",
       "       112.31350049, 177.12679903, 114.88739975, 119.34900021,\n",
       "        94.78740072, 125.71699995, 166.35780104, 114.9030004 ,\n",
       "       116.92400132,  88.24759869, 149.04150134, 120.2926998 ,\n",
       "        89.45539963, 111.38539998, 117.58210068, 118.74510119,\n",
       "        87.99179916,  94.43470011, 117.00950018, 118.43070205,\n",
       "       120.06250026, 126.66599842, 121.90879986, 149.96190031,\n",
       "       165.55500122, 118.57199971, 120.45920129, 150.24630021,\n",
       "       118.52779886, 172.72509847, 105.51479949, 105.00510117,\n",
       "       149.32510164, 113.40780071, 124.89210079, 147.23419989,\n",
       "       119.61800132, 115.49780047, 112.37170019, 113.31380207,\n",
       "       141.67790123, 117.86629762, 102.93880047, 115.90820112,\n",
       "       103.56060164,  98.75230017, 117.3437006 ,  90.57240011,\n",
       "        91.69370005, 153.89219884, 102.69399971, 154.29510064,\n",
       "       114.29550175, 138.49280062,  90.0879981 , 115.46109909,\n",
       "       114.67509979, 123.14700052, 121.75260004, 165.16200087,\n",
       "        92.90569943, 135.88690158, 121.35219942, 120.68480089,\n",
       "       104.74410022, 142.362703  , 121.91479904, 116.59650046,\n",
       "       113.49450053, 126.9678977 , 122.85599938, 125.72749936,\n",
       "       121.23540057,  86.87449868, 132.63210095, 143.23900257,\n",
       "        92.65629969, 159.65809996, 159.32010249, 126.27989911,\n",
       "       164.79769976, 108.78919946, 109.7508006 , 103.69779828,\n",
       "        94.15630081, 128.11650287, 107.17480025, 161.73639978,\n",
       "       121.67220048, 132.02580111, 130.63810157, 160.13679991,\n",
       "        90.20459851, 175.33240196, 127.11810046, 126.76219844,\n",
       "        86.5491992 , 124.3277995 , 150.2205976 ,  89.69020015,\n",
       "       106.97009998, 109.18310005,  83.83459931, 136.18440009,\n",
       "       155.12500231, 138.37010425,  74.23860025, 152.8841011 ,\n",
       "       125.9097997 , 126.8447999 , 127.48929863, 108.71699951,\n",
       "       156.34900091, 114.67830106, 116.83910138, 125.49079954,\n",
       "       154.02700175, 121.42320008, 156.37049871,  93.04710059,\n",
       "       125.52860117, 125.63799995,  87.78520013,  92.35879902,\n",
       "       126.4285988 , 128.20970284, 113.19280035, 117.54279759,\n",
       "       120.84220033, 127.07659813, 119.69410053, 136.26800099,\n",
       "        93.96419972, 119.97790041, 113.37610109,  94.2570997 ,\n",
       "       108.75539996,  87.11809929, 108.78649924,  89.34269976,\n",
       "        92.45120037, 131.54890278, 162.4346005 ,  89.34919968,\n",
       "       119.69720068, 133.31820182, 124.0909004 , 128.19720201,\n",
       "       102.06569846,  89.1611985 , 131.59310092, 119.77120018,\n",
       "       108.58239995, 168.56930104, 115.18320042,  86.61949906,\n",
       "       118.84570074,  91.03939965, 161.61210052, 116.44060042,\n",
       "       121.60979977, 160.39669765, 120.11899957, 112.44529933,\n",
       "       108.6153989 , 126.71569977,  75.71670053, 103.03059989,\n",
       "       127.89560279, 121.79259882,  92.48840022, 132.02770035,\n",
       "       118.07610116, 116.19319978, 154.15290273, 158.83050096,\n",
       "       109.90959996, 157.4631986 , 119.21570095, 160.3019011 ,\n",
       "       118.35650033, 157.48499869, 115.0953993 , 116.60010013,\n",
       "       150.23519885, 114.87560079, 125.75169904, 167.18609992,\n",
       "       117.75239985, 125.3428993 , 153.2766034 , 153.47960231,\n",
       "       132.20210025, 114.79960039, 121.1282019 , 125.28150098,\n",
       "        89.66290062, 123.35179996, 154.91860201, 111.68260048,\n",
       "       106.79479996, 161.16050087, 118.72999969, 165.61829983,\n",
       "       133.95990098, 114.92469968, 152.93089825, 168.56649964,\n",
       "       115.29920019, 113.92600095, 158.15509891,  85.14839883,\n",
       "       127.09090042, 127.97520092, 128.96669978, 124.28500068,\n",
       "       123.79370064,  90.63970088, 153.4008004 ,  97.32279968,\n",
       "       138.02439946,  89.09969895, 107.52210035, 115.1929006 ,\n",
       "       112.60140086, 124.21719933,  91.40699885, 125.27740122,\n",
       "       162.33439851, 119.97779888, 164.98990138, 126.59279857,\n",
       "       112.38600003, 127.46309963,  95.13839863,  91.01390011,\n",
       "       103.61949926, 120.79950032,  83.20139951, 126.27269977,\n",
       "       161.07080427, 117.22540088, 118.35429967, 119.86719977,\n",
       "       122.87919943, 120.16500143, 121.43609979, 118.32050036,\n",
       "       107.03819949, 148.2509997 , 126.3157986 , 115.65170084,\n",
       "        74.10829994, 127.88760125, 154.01960041, 121.73160006,\n",
       "       125.65820079,  88.94810017, 103.54869857, 124.44030018,\n",
       "       120.26990027,  73.47430074, 151.57079982, 121.23250014,\n",
       "       104.88029984,  86.21569784, 115.21589874, 172.26559885,\n",
       "       119.75070076, 159.84979824, 113.14819923, 121.24570038,\n",
       "       118.38270114,  96.00149991, 118.56069992, 125.75750016,\n",
       "       118.40759961,  95.94880049, 153.92400198, 122.14939985,\n",
       "       147.31200067, 159.60570208, 113.67990039, 122.66109925,\n",
       "       150.53419824, 127.44190022, 165.70010057, 135.05510006,\n",
       "       119.89749929, 166.99699869, 108.4726992 , 121.64239852,\n",
       "       139.41760163, 106.67419904])"
      ]
     },
     "execution_count": 19,
     "metadata": {},
     "output_type": "execute_result"
    }
   ],
   "source": [
    "test_data_prediction"
   ]
  },
  {
   "cell_type": "markdown",
   "id": "6b65606a-2123-4e30-8d99-86d27329d544",
   "metadata": {},
   "source": [
    "#### R-squared error"
   ]
  },
  {
   "cell_type": "code",
   "execution_count": 20,
   "id": "39bb31a9-10c5-4035-b755-a3eb2b7c836e",
   "metadata": {},
   "outputs": [],
   "source": [
    "error_score = r2_score(y_test, test_data_prediction)"
   ]
  },
  {
   "cell_type": "code",
   "execution_count": 21,
   "id": "8975e78d-81a0-47e0-97d4-faffae216668",
   "metadata": {},
   "outputs": [
    {
     "data": {
      "text/plain": [
       "0.9887205840482628"
      ]
     },
     "execution_count": 21,
     "metadata": {},
     "output_type": "execute_result"
    }
   ],
   "source": [
    "error_score"
   ]
  },
  {
   "cell_type": "markdown",
   "id": "0e306c8c-dff6-453c-9dc8-abc448e0b3c8",
   "metadata": {},
   "source": [
    "#### Compare actual and predicted values in a plot "
   ]
  },
  {
   "cell_type": "code",
   "execution_count": 22,
   "id": "f8146bc0-d596-4ec5-9da7-95b2dd60c94a",
   "metadata": {},
   "outputs": [],
   "source": [
    "y_test = list(y_test)"
   ]
  },
  {
   "cell_type": "code",
   "execution_count": 24,
   "id": "2acb2dbf-e6ae-4786-a6bb-f66765c01388",
   "metadata": {},
   "outputs": [
    {
     "data": {
      "image/png": "[encoded data removed]",
      "text/plain": [
       "<Figure size 640x480 with 1 Axes>"
      ]
     },
     "metadata": {},
     "output_type": "display_data"
    }
   ],
   "source": [
    "plt.plot(y_test, color='blue', label='Actual values')\n",
    "plt.plot(test_data_prediction, color='red', label='Predicted values')\n",
    "plt.title('Actual price vs Predicted price')\n",
    "plt.xlabel('Number of values')\n",
    "plt.ylabel('Gold price')\n",
    "plt.legend()\n",
    "plt.show()"
   ]
  }
 ],
 "metadata": {
  "kernelspec": {
   "display_name": "Python 3 (ipykernel)",
   "language": "python",
   "name": "python3"
  },
  "language_info": {
   "codemirror_mode": {
    "name": "ipython",
    "version": 3
   },
   "file_extension": ".py",
   "mimetype": "text/x-python",
   "name": "python",
   "nbconvert_exporter": "python",
   "pygments_lexer": "ipython3",
   "version": "3.11.4"
  }
 },
 "nbformat": 4,
 "nbformat_minor": 5
}
