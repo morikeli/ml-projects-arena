{
 "cells": [
  {
   "cell_type": "markdown",
   "id": "094cac59-1d8a-4c67-9c09-a079e2ed4ab5",
   "metadata": {},
   "source": [
    "# Fake news detection using Support Vector Machine (SVM) \n",
    "This model checks whether a news article is fake or real. In this case, LinearSVC **(Linear Support Vector Classifier)** is used"
   ]
  },
  {
   "cell_type": "code",
   "execution_count": 1,
   "id": "65bae128-584d-4ece-8d96-34f8375b5c4e",
   "metadata": {},
   "outputs": [],
   "source": [
    "from sklearn.feature_extraction.text import TfidfVectorizer\n",
    "from sklearn.model_selection import train_test_split\n",
    "from sklearn.metrics import accuracy_score\n",
    "from sklearn.svm import LinearSVC\n",
    "import pandas as pd\n",
    "import numpy as np\n",
    "import random"
   ]
  },
  {
   "cell_type": "code",
   "execution_count": 2,
   "id": "ef974256-22ea-4c87-9013-5d1cf9def21a",
   "metadata": {},
   "outputs": [],
   "source": [
    "dataset = pd.read_csv('dataset/news-articles.csv')"
   ]
  },
  {
   "cell_type": "code",
   "execution_count": 3,
   "id": "c9e6b925-e785-45c1-b49a-b222534fbccc",
   "metadata": {},
   "outputs": [
    {
     "data": {
      "text/html": [
       "<div>\n",
       "<style scoped>\n",
       "    .dataframe tbody tr th:only-of-type {\n",
       "        vertical-align: middle;\n",
       "    }\n",
       "\n",
       "    .dataframe tbody tr th {\n",
       "        vertical-align: top;\n",
       "    }\n",
       "\n",
       "    .dataframe thead th {\n",
       "        text-align: right;\n",
       "    }\n",
       "</style>\n",
       "<table border=\"1\" class=\"dataframe\">\n",
       "  <thead>\n",
       "    <tr style=\"text-align: right;\">\n",
       "      <th></th>\n",
       "      <th>id</th>\n",
       "      <th>title</th>\n",
       "      <th>author</th>\n",
       "      <th>text</th>\n",
       "      <th>label</th>\n",
       "    </tr>\n",
       "  </thead>\n",
       "  <tbody>\n",
       "    <tr>\n",
       "      <th>0</th>\n",
       "      <td>0</td>\n",
       "      <td>House Dem Aide: We Didn’t Even See Comey’s Let...</td>\n",
       "      <td>Darrell Lucus</td>\n",
       "      <td>House Dem Aide: We Didn’t Even See Comey’s Let...</td>\n",
       "      <td>1</td>\n",
       "    </tr>\n",
       "    <tr>\n",
       "      <th>1</th>\n",
       "      <td>1</td>\n",
       "      <td>FLYNN: Hillary Clinton, Big Woman on Campus - ...</td>\n",
       "      <td>Daniel J. Flynn</td>\n",
       "      <td>Ever get the feeling your life circles the rou...</td>\n",
       "      <td>0</td>\n",
       "    </tr>\n",
       "    <tr>\n",
       "      <th>2</th>\n",
       "      <td>2</td>\n",
       "      <td>Why the Truth Might Get You Fired</td>\n",
       "      <td>Consortiumnews.com</td>\n",
       "      <td>Why the Truth Might Get You Fired October 29, ...</td>\n",
       "      <td>1</td>\n",
       "    </tr>\n",
       "    <tr>\n",
       "      <th>3</th>\n",
       "      <td>3</td>\n",
       "      <td>15 Civilians Killed In Single US Airstrike Hav...</td>\n",
       "      <td>Jessica Purkiss</td>\n",
       "      <td>Videos 15 Civilians Killed In Single US Airstr...</td>\n",
       "      <td>1</td>\n",
       "    </tr>\n",
       "    <tr>\n",
       "      <th>4</th>\n",
       "      <td>4</td>\n",
       "      <td>Iranian woman jailed for fictional unpublished...</td>\n",
       "      <td>Howard Portnoy</td>\n",
       "      <td>Print \\nAn Iranian woman has been sentenced to...</td>\n",
       "      <td>1</td>\n",
       "    </tr>\n",
       "    <tr>\n",
       "      <th>5</th>\n",
       "      <td>5</td>\n",
       "      <td>Jackie Mason: Hollywood Would Love Trump if He...</td>\n",
       "      <td>Daniel Nussbaum</td>\n",
       "      <td>In these trying times, Jackie Mason is the Voi...</td>\n",
       "      <td>0</td>\n",
       "    </tr>\n",
       "    <tr>\n",
       "      <th>6</th>\n",
       "      <td>6</td>\n",
       "      <td>Life: Life Of Luxury: Elton John’s 6 Favorite ...</td>\n",
       "      <td>NaN</td>\n",
       "      <td>Ever wonder how Britain’s most iconic pop pian...</td>\n",
       "      <td>1</td>\n",
       "    </tr>\n",
       "    <tr>\n",
       "      <th>7</th>\n",
       "      <td>7</td>\n",
       "      <td>Benoît Hamon Wins French Socialist Party’s Pre...</td>\n",
       "      <td>Alissa J. Rubin</td>\n",
       "      <td>PARIS  —   France chose an idealistic, traditi...</td>\n",
       "      <td>0</td>\n",
       "    </tr>\n",
       "    <tr>\n",
       "      <th>8</th>\n",
       "      <td>8</td>\n",
       "      <td>Excerpts From a Draft Script for Donald Trump’...</td>\n",
       "      <td>NaN</td>\n",
       "      <td>Donald J. Trump is scheduled to make a highly ...</td>\n",
       "      <td>0</td>\n",
       "    </tr>\n",
       "    <tr>\n",
       "      <th>9</th>\n",
       "      <td>9</td>\n",
       "      <td>A Back-Channel Plan for Ukraine and Russia, Co...</td>\n",
       "      <td>Megan Twohey and Scott Shane</td>\n",
       "      <td>A week before Michael T. Flynn resigned as nat...</td>\n",
       "      <td>0</td>\n",
       "    </tr>\n",
       "  </tbody>\n",
       "</table>\n",
       "</div>"
      ],
      "text/plain": [
       "   id                                              title  \\\n",
       "0   0  House Dem Aide: We Didn’t Even See Comey’s Let...   \n",
       "1   1  FLYNN: Hillary Clinton, Big Woman on Campus - ...   \n",
       "2   2                  Why the Truth Might Get You Fired   \n",
       "3   3  15 Civilians Killed In Single US Airstrike Hav...   \n",
       "4   4  Iranian woman jailed for fictional unpublished...   \n",
       "5   5  Jackie Mason: Hollywood Would Love Trump if He...   \n",
       "6   6  Life: Life Of Luxury: Elton John’s 6 Favorite ...   \n",
       "7   7  Benoît Hamon Wins French Socialist Party’s Pre...   \n",
       "8   8  Excerpts From a Draft Script for Donald Trump’...   \n",
       "9   9  A Back-Channel Plan for Ukraine and Russia, Co...   \n",
       "\n",
       "                         author  \\\n",
       "0                 Darrell Lucus   \n",
       "1               Daniel J. Flynn   \n",
       "2            Consortiumnews.com   \n",
       "3               Jessica Purkiss   \n",
       "4                Howard Portnoy   \n",
       "5               Daniel Nussbaum   \n",
       "6                           NaN   \n",
       "7               Alissa J. Rubin   \n",
       "8                           NaN   \n",
       "9  Megan Twohey and Scott Shane   \n",
       "\n",
       "                                                text  label  \n",
       "0  House Dem Aide: We Didn’t Even See Comey’s Let...      1  \n",
       "1  Ever get the feeling your life circles the rou...      0  \n",
       "2  Why the Truth Might Get You Fired October 29, ...      1  \n",
       "3  Videos 15 Civilians Killed In Single US Airstr...      1  \n",
       "4  Print \\nAn Iranian woman has been sentenced to...      1  \n",
       "5  In these trying times, Jackie Mason is the Voi...      0  \n",
       "6  Ever wonder how Britain’s most iconic pop pian...      1  \n",
       "7  PARIS  —   France chose an idealistic, traditi...      0  \n",
       "8  Donald J. Trump is scheduled to make a highly ...      0  \n",
       "9  A week before Michael T. Flynn resigned as nat...      0  "
      ]
     },
     "execution_count": 3,
     "metadata": {},
     "output_type": "execute_result"
    }
   ],
   "source": [
    "dataset.head(n=10)"
   ]
  },
  {
   "cell_type": "markdown",
   "id": "b0097312-a862-4dc4-ab01-918c09a66e94",
   "metadata": {},
   "source": [
    "### Dataset features and target"
   ]
  },
  {
   "cell_type": "code",
   "execution_count": 4,
   "id": "30a2aa22-498e-4d1e-8377-ffb89bd447c1",
   "metadata": {},
   "outputs": [
    {
     "data": {
      "text/plain": [
       "(20800, 5)"
      ]
     },
     "execution_count": 4,
     "metadata": {},
     "output_type": "execute_result"
    }
   ],
   "source": [
    "dataset.shape"
   ]
  },
  {
   "cell_type": "code",
   "execution_count": null,
   "id": "3fd5d41d-9aba-4698-a3f1-1895c8876ff4",
   "metadata": {},
   "outputs": [],
   "source": []
  },
  {
   "cell_type": "markdown",
   "id": "305c8aac-e0c5-41c4-b89d-d16a4ed41ed6",
   "metadata": {},
   "source": [
    "### Check for missing values"
   ]
  },
  {
   "cell_type": "code",
   "execution_count": 5,
   "id": "87237a02-8aee-4788-a20f-ee0f05bbe924",
   "metadata": {},
   "outputs": [
    {
     "data": {
      "text/plain": [
       "title      558\n",
       "author    1957\n",
       "text        39\n",
       "label        0\n",
       "dtype: int64"
      ]
     },
     "execution_count": 5,
     "metadata": {},
     "output_type": "execute_result"
    }
   ],
   "source": [
    "dataset.drop(columns='id').isnull().sum()"
   ]
  },
  {
   "cell_type": "code",
   "execution_count": null,
   "id": "a1d023c3-90e5-4673-b4cc-f0cc656f9424",
   "metadata": {},
   "outputs": [],
   "source": []
  },
  {
   "cell_type": "markdown",
   "id": "f3e4acab-78e5-47df-9a8d-d7b7e91bd6f9",
   "metadata": {},
   "source": [
    "### Cleaning data\n",
    "Replacing null values with an empty string"
   ]
  },
  {
   "cell_type": "code",
   "execution_count": 6,
   "id": "8bf65229-cbed-4bc4-9356-82514faddac2",
   "metadata": {},
   "outputs": [],
   "source": [
    "dataset = dataset.fillna('')"
   ]
  },
  {
   "cell_type": "code",
   "execution_count": 7,
   "id": "54c78eb2-5776-4621-9a4b-5bd0c4ffd749",
   "metadata": {},
   "outputs": [
    {
     "data": {
      "text/plain": [
       "title     0\n",
       "author    0\n",
       "text      0\n",
       "label     0\n",
       "dtype: int64"
      ]
     },
     "execution_count": 7,
     "metadata": {},
     "output_type": "execute_result"
    }
   ],
   "source": [
    "# Check for any missing values after data cleaning\n",
    "\n",
    "dataset.drop(columns='id').isnull().sum()"
   ]
  },
  {
   "cell_type": "code",
   "execution_count": null,
   "id": "0bab2406-2ec4-4220-b99f-da2e3da8db73",
   "metadata": {},
   "outputs": [],
   "source": []
  },
  {
   "cell_type": "markdown",
   "id": "b313e20d-a32e-41f9-b21d-3c2464d4bfa4",
   "metadata": {},
   "source": [
    "## Separate feature names and target"
   ]
  },
  {
   "cell_type": "code",
   "execution_count": 8,
   "id": "8f6c6653-5866-45f9-a09f-2a51d89e2d14",
   "metadata": {},
   "outputs": [],
   "source": [
    "X = dataset[\"text\"]\n",
    "y = dataset[\"label\"]"
   ]
  },
  {
   "cell_type": "code",
   "execution_count": 9,
   "id": "04c29dc5-7ed8-4a3b-bc96-f4566dd823ef",
   "metadata": {},
   "outputs": [
    {
     "name": "stdout",
     "output_type": "stream",
     "text": [
      "0        House Dem Aide: We Didn’t Even See Comey’s Let...\n",
      "1        Ever get the feeling your life circles the rou...\n",
      "2        Why the Truth Might Get You Fired October 29, ...\n",
      "3        Videos 15 Civilians Killed In Single US Airstr...\n",
      "4        Print \\nAn Iranian woman has been sentenced to...\n",
      "                               ...                        \n",
      "20795    Rapper T. I. unloaded on black celebrities who...\n",
      "20796    When the Green Bay Packers lost to the Washing...\n",
      "20797    The Macy’s of today grew from the union of sev...\n",
      "20798    NATO, Russia To Hold Parallel Exercises In Bal...\n",
      "20799      David Swanson is an author, activist, journa...\n",
      "Name: text, Length: 20800, dtype: object\n"
     ]
    }
   ],
   "source": [
    "print(X)"
   ]
  },
  {
   "cell_type": "code",
   "execution_count": 10,
   "id": "626ffcf9-0fd0-43fc-8bb3-46244a177d4c",
   "metadata": {},
   "outputs": [
    {
     "name": "stdout",
     "output_type": "stream",
     "text": [
      "0        1\n",
      "1        0\n",
      "2        1\n",
      "3        1\n",
      "4        1\n",
      "        ..\n",
      "20795    0\n",
      "20796    0\n",
      "20797    0\n",
      "20798    1\n",
      "20799    1\n",
      "Name: label, Length: 20800, dtype: int64\n"
     ]
    }
   ],
   "source": [
    "print(y)"
   ]
  },
  {
   "cell_type": "markdown",
   "id": "a3ef807d-03ab-466f-a95f-60aaf3cf29ca",
   "metadata": {},
   "source": [
    "## Split data into training data and testing data"
   ]
  },
  {
   "cell_type": "code",
   "execution_count": 11,
   "id": "249b9551-4b12-40cf-a418-f6df503e3f8a",
   "metadata": {},
   "outputs": [],
   "source": [
    "X_train, X_test, y_train, y_test = train_test_split(X, y, test_size=0.2, stratify=y, random_state=2)"
   ]
  },
  {
   "cell_type": "code",
   "execution_count": null,
   "id": "c904f4d4-8aa0-4586-92f4-834f0484a700",
   "metadata": {},
   "outputs": [],
   "source": []
  },
  {
   "cell_type": "markdown",
   "id": "5f9f4105-f36e-446b-b245-bc403545c4db",
   "metadata": {},
   "source": [
    "### Check how much features are used for training and testing"
   ]
  },
  {
   "cell_type": "code",
   "execution_count": 12,
   "id": "b5ed5d72-0784-4604-8d12-86976d026712",
   "metadata": {},
   "outputs": [
    {
     "name": "stdout",
     "output_type": "stream",
     "text": [
      "(20800,) (16640,) (4160,)\n"
     ]
    }
   ],
   "source": [
    "print(X.shape, X_train.shape, X_test.shape)"
   ]
  },
  {
   "cell_type": "markdown",
   "id": "0da46681-9eb7-4db2-b346-b98f5b931688",
   "metadata": {},
   "source": [
    "### **NOTE**\n",
    "\n",
    "**16640** is used to train the model (training data)\n",
    "**4160** is used to test the model (testing data)"
   ]
  },
  {
   "cell_type": "code",
   "execution_count": null,
   "id": "a883ba4b-d0d6-4258-8142-70d67c4dae2b",
   "metadata": {},
   "outputs": [],
   "source": []
  },
  {
   "cell_type": "markdown",
   "id": "baf38543-a92a-48cb-aa7f-837d1cdfc31d",
   "metadata": {},
   "source": [
    "### Vectorize training data and testing data using **TfidfVectorizer**"
   ]
  },
  {
   "cell_type": "code",
   "execution_count": 13,
   "id": "de461434-223c-4863-a01f-370751449975",
   "metadata": {},
   "outputs": [],
   "source": [
    "vectorizer = TfidfVectorizer(stop_words=\"english\")\n",
    "\n",
    "X_train_vectorized = vectorizer.fit_transform(X_train)\n",
    "X_test_vectorized = vectorizer.transform(X_test)"
   ]
  },
  {
   "cell_type": "code",
   "execution_count": null,
   "id": "71f01b24-763f-436e-8c61-63bc592ab75e",
   "metadata": {},
   "outputs": [],
   "source": []
  },
  {
   "cell_type": "markdown",
   "id": "db348624-2263-4b10-a4a4-b3dc10ee4053",
   "metadata": {},
   "source": [
    "### creating an instance of LinearSVC "
   ]
  },
  {
   "cell_type": "code",
   "execution_count": 14,
   "id": "9911e662-2e0a-47b1-a9c9-201d1fad3cd9",
   "metadata": {},
   "outputs": [],
   "source": [
    "model = LinearSVC(dual='auto')"
   ]
  },
  {
   "cell_type": "code",
   "execution_count": 15,
   "id": "8661005f-9ad8-40e6-a145-ee547fb28f22",
   "metadata": {},
   "outputs": [
    {
     "data": {
      "text/html": [
       "<style>#sk-container-id-1 {color: black;}#sk-container-id-1 pre{padding: 0;}#sk-container-id-1 div.sk-toggleable {background-color: white;}#sk-container-id-1 label.sk-toggleable__label {cursor: pointer;display: block;width: 100%;margin-bottom: 0;padding: 0.3em;box-sizing: border-box;text-align: center;}#sk-container-id-1 label.sk-toggleable__label-arrow:before {content: \"▸\";float: left;margin-right: 0.25em;color: #696969;}#sk-container-id-1 label.sk-toggleable__label-arrow:hover:before {color: black;}#sk-container-id-1 div.sk-estimator:hover label.sk-toggleable__label-arrow:before {color: black;}#sk-container-id-1 div.sk-toggleable__content {max-height: 0;max-width: 0;overflow: hidden;text-align: left;background-color: #f0f8ff;}#sk-container-id-1 div.sk-toggleable__content pre {margin: 0.2em;color: black;border-radius: 0.25em;background-color: #f0f8ff;}#sk-container-id-1 input.sk-toggleable__control:checked~div.sk-toggleable__content {max-height: 200px;max-width: 100%;overflow: auto;}#sk-container-id-1 input.sk-toggleable__control:checked~label.sk-toggleable__label-arrow:before {content: \"▾\";}#sk-container-id-1 div.sk-estimator input.sk-toggleable__control:checked~label.sk-toggleable__label {background-color: #d4ebff;}#sk-container-id-1 div.sk-label input.sk-toggleable__control:checked~label.sk-toggleable__label {background-color: #d4ebff;}#sk-container-id-1 input.sk-hidden--visually {border: 0;clip: rect(1px 1px 1px 1px);clip: rect(1px, 1px, 1px, 1px);height: 1px;margin: -1px;overflow: hidden;padding: 0;position: absolute;width: 1px;}#sk-container-id-1 div.sk-estimator {font-family: monospace;background-color: #f0f8ff;border: 1px dotted black;border-radius: 0.25em;box-sizing: border-box;margin-bottom: 0.5em;}#sk-container-id-1 div.sk-estimator:hover {background-color: #d4ebff;}#sk-container-id-1 div.sk-parallel-item::after {content: \"\";width: 100%;border-bottom: 1px solid gray;flex-grow: 1;}#sk-container-id-1 div.sk-label:hover label.sk-toggleable__label {background-color: #d4ebff;}#sk-container-id-1 div.sk-serial::before {content: \"\";position: absolute;border-left: 1px solid gray;box-sizing: border-box;top: 0;bottom: 0;left: 50%;z-index: 0;}#sk-container-id-1 div.sk-serial {display: flex;flex-direction: column;align-items: center;background-color: white;padding-right: 0.2em;padding-left: 0.2em;position: relative;}#sk-container-id-1 div.sk-item {position: relative;z-index: 1;}#sk-container-id-1 div.sk-parallel {display: flex;align-items: stretch;justify-content: center;background-color: white;position: relative;}#sk-container-id-1 div.sk-item::before, #sk-container-id-1 div.sk-parallel-item::before {content: \"\";position: absolute;border-left: 1px solid gray;box-sizing: border-box;top: 0;bottom: 0;left: 50%;z-index: -1;}#sk-container-id-1 div.sk-parallel-item {display: flex;flex-direction: column;z-index: 1;position: relative;background-color: white;}#sk-container-id-1 div.sk-parallel-item:first-child::after {align-self: flex-end;width: 50%;}#sk-container-id-1 div.sk-parallel-item:last-child::after {align-self: flex-start;width: 50%;}#sk-container-id-1 div.sk-parallel-item:only-child::after {width: 0;}#sk-container-id-1 div.sk-dashed-wrapped {border: 1px dashed gray;margin: 0 0.4em 0.5em 0.4em;box-sizing: border-box;padding-bottom: 0.4em;background-color: white;}#sk-container-id-1 div.sk-label label {font-family: monospace;font-weight: bold;display: inline-block;line-height: 1.2em;}#sk-container-id-1 div.sk-label-container {text-align: center;}#sk-container-id-1 div.sk-container {/* jupyter's `normalize.less` sets `[hidden] { display: none; }` but bootstrap.min.css set `[hidden] { display: none !important; }` so we also need the `!important` here to be able to override the default hidden behavior on the sphinx rendered scikit-learn.org. See: https://github.com/scikit-learn/scikit-learn/issues/21755 */display: inline-block !important;position: relative;}#sk-container-id-1 div.sk-text-repr-fallback {display: none;}</style><div id=\"sk-container-id-1\" class=\"sk-top-container\"><div class=\"sk-text-repr-fallback\"><pre>LinearSVC(dual=&#x27;auto&#x27;)</pre><b>In a Jupyter environment, please rerun this cell to show the HTML representation or trust the notebook. <br />On GitHub, the HTML representation is unable to render, please try loading this page with nbviewer.org.</b></div><div class=\"sk-container\" hidden><div class=\"sk-item\"><div class=\"sk-estimator sk-toggleable\"><input class=\"sk-toggleable__control sk-hidden--visually\" id=\"sk-estimator-id-1\" type=\"checkbox\" checked><label for=\"sk-estimator-id-1\" class=\"sk-toggleable__label sk-toggleable__label-arrow\">LinearSVC</label><div class=\"sk-toggleable__content\"><pre>LinearSVC(dual=&#x27;auto&#x27;)</pre></div></div></div></div></div>"
      ],
      "text/plain": [
       "LinearSVC(dual='auto')"
      ]
     },
     "execution_count": 15,
     "metadata": {},
     "output_type": "execute_result"
    }
   ],
   "source": [
    "model.fit(X_train_vectorized, y_train)"
   ]
  },
  {
   "cell_type": "markdown",
   "id": "01999ad5-0b48-48d5-a6d0-66dc8429cea3",
   "metadata": {},
   "source": [
    "### Accuracy score for the model"
   ]
  },
  {
   "cell_type": "code",
   "execution_count": 16,
   "id": "9a68b687-2b0b-4f20-a2d1-80ba9002922c",
   "metadata": {},
   "outputs": [],
   "source": [
    "# 1. Accuracy score (training data)\n",
    "X_train_prediction = model.predict(X_train_vectorized)\n",
    "training_data_accuracy = accuracy_score(X_train_prediction, y_train)"
   ]
  },
  {
   "cell_type": "code",
   "execution_count": 17,
   "id": "a5cea45b-b857-4aff-a080-b18766157a9d",
   "metadata": {},
   "outputs": [
    {
     "name": "stdout",
     "output_type": "stream",
     "text": [
      "Accuracy score (training data): 0.9993990384615384\n"
     ]
    }
   ],
   "source": [
    "print(f'Accuracy score (training data): {training_data_accuracy}')"
   ]
  },
  {
   "cell_type": "markdown",
   "id": "9d9a3945-0757-48b3-891c-80387e076e52",
   "metadata": {},
   "source": [
    "### The code block below can also be used to measure accuracy score"
   ]
  },
  {
   "cell_type": "code",
   "execution_count": 18,
   "id": "d907f1c4-a96a-42cd-bfc3-6792d52ee024",
   "metadata": {},
   "outputs": [
    {
     "data": {
      "text/plain": [
       "0.9993990384615384"
      ]
     },
     "execution_count": 18,
     "metadata": {},
     "output_type": "execute_result"
    }
   ],
   "source": [
    "model.score(X_train_vectorized, y_train)"
   ]
  },
  {
   "cell_type": "code",
   "execution_count": 19,
   "id": "12a94ac5-7d3c-4f5b-8f62-4e09d2f1d584",
   "metadata": {},
   "outputs": [
    {
     "data": {
      "text/plain": [
       "0.9574519230769231"
      ]
     },
     "execution_count": 19,
     "metadata": {},
     "output_type": "execute_result"
    }
   ],
   "source": [
    "# 2. Accuracy score (testing data)\n",
    "model.score(X_test_vectorized, y_test)"
   ]
  },
  {
   "cell_type": "code",
   "execution_count": null,
   "id": "349d2c6a-2bb6-472c-98df-dd30108b2988",
   "metadata": {},
   "outputs": [],
   "source": []
  },
  {
   "cell_type": "markdown",
   "id": "4ec61d36-874a-45cc-935a-91403b258e7d",
   "metadata": {},
   "source": [
    "### Check how many articles used as training data were classified correctly."
   ]
  },
  {
   "cell_type": "code",
   "execution_count": 20,
   "id": "1e648936-94f7-4fb6-899c-c5129f3e7d3c",
   "metadata": {},
   "outputs": [
    {
     "name": "stdout",
     "output_type": "stream",
     "text": [
      "Articles: 16630 articles out of 16640 articles\n",
      "\n",
      "Articles classified incorrectly: 10 articles.\n"
     ]
    }
   ],
   "source": [
    "# training data\n",
    "\n",
    "acc_score_ = model.score(X_train_vectorized, y_train)  # accuracy score\n",
    "classified_articles = round(X_train.shape[0] * acc_score_)\n",
    "total_articles = X_train.shape[0]  # return the first item in the tuple\n",
    "\n",
    "print(f'Articles: {classified_articles} articles out of {total_articles} articles')  # articles classified correctly\n",
    "print()\n",
    "print(f'Articles classified incorrectly: {total_articles - classified_articles} articles.')"
   ]
  },
  {
   "cell_type": "code",
   "execution_count": null,
   "id": "a36d10dc-0647-482c-9be9-acfb33add7b3",
   "metadata": {},
   "outputs": [],
   "source": []
  },
  {
   "cell_type": "markdown",
   "id": "6b3b3c9d-c21b-47b7-8aca-04c537c2630a",
   "metadata": {},
   "source": [
    "### Check how many articles used as testing data were classified correctly."
   ]
  },
  {
   "cell_type": "code",
   "execution_count": 21,
   "id": "35b8b8ec-22f6-4e8a-93af-f5fe68afa3e3",
   "metadata": {},
   "outputs": [
    {
     "name": "stdout",
     "output_type": "stream",
     "text": [
      "Articles: 3983 articles out of 4160 articles\n",
      "\n",
      "Articles classified incorrectly: 177 articles.\n"
     ]
    }
   ],
   "source": [
    "# testing data\n",
    "\n",
    "\n",
    "acc_score_ = model.score(X_test_vectorized, y_test)  # accuracy score\n",
    "classified_articles = round(X_test.shape[0] * acc_score_)\n",
    "total_articles = X_test.shape[0]  # return the first item in the tuple\n",
    "\n",
    "print(f'Articles: {classified_articles} articles out of {total_articles} articles')  # articles classified correctly\n",
    "print()\n",
    "print(f'Articles classified incorrectly: {total_articles - classified_articles} articles.')"
   ]
  },
  {
   "cell_type": "code",
   "execution_count": null,
   "id": "b680e369-c3a1-49ab-b644-66e0596271e8",
   "metadata": {},
   "outputs": [],
   "source": []
  },
  {
   "cell_type": "code",
   "execution_count": null,
   "id": "443fa5ba-46d2-4284-8ac8-f94454409c76",
   "metadata": {},
   "outputs": [],
   "source": []
  },
  {
   "cell_type": "markdown",
   "id": "0b53fc0c-d295-4e92-9a30-d77809ab6355",
   "metadata": {},
   "source": [
    "## Build a predictive system"
   ]
  },
  {
   "cell_type": "code",
   "execution_count": 42,
   "id": "e345ef9d-b074-4d1c-8cda-9803e2855fbe",
   "metadata": {},
   "outputs": [
    {
     "name": "stdout",
     "output_type": "stream",
     "text": [
      "Random article: 993 | 20800\n",
      "[0]\n",
      "Authentic news article.\n"
     ]
    }
   ],
   "source": [
    "random_article = random.randrange(0, X.shape[0])\n",
    "\n",
    "print(f'Random article: {random_article} | {X.shape[0]}')\n",
    "\n",
    "# pick a random news article and save it in a text file\n",
    "with open('test-articles.txt', 'w', encoding='utf-8') as file:\n",
    "    file.write(X_test.iloc[random_article])\n",
    "\n",
    "with open('test-articles.txt', 'r', encoding='utf-8') as file:\n",
    "    news_article = file.read()\n",
    "\n",
    "prediction = vectorizer.transform([news_article])\n",
    "\n",
    "result = model.predict(prediction)\n",
    "\n",
    "print(result)\n",
    "\n",
    "if result[0] == 0:\n",
    "    print(\"Authentic news article.\")\n",
    "else:\n",
    "    print(\"FAKE news article!!!\")"
   ]
  },
  {
   "cell_type": "code",
   "execution_count": 43,
   "id": "5d7ec650-23e2-4c49-9a48-0ca07051e89f",
   "metadata": {},
   "outputs": [
    {
     "data": {
      "text/plain": [
       "'You must lose weight, a doctor told Sarah Bramblette, advising a     diet. But Ms. Bramblette had a basic question: How much do I weigh? The doctor’s scale went up to 350 pounds, and she was heavier than that. If she did not know the number, how would she know if the diet was working? The doctor had no answer. So Ms. Bramblette, 39, who lived in Ohio at the time, resorted to a solution that made her burn with shame. She drove to a nearby junkyard that had a scale that could weigh her. She was 502 pounds. One in three Americans is obese, a rate that has been steadily growing for more than two decades, but the health care system  —   in its attitudes, equipment and common practices  —   is ill prepared, and its practitioners are often unwilling, to treat the rising population of fat patients. The difficulties range from scales and scanners, like M. R. I. machines that are not built big enough for very heavy people, to surgeons who categorically refuse to give knee or hip replacements to the obese, to drug doses that have not been calibrated for obese patients. The situation is particularly thorny for the more than 15 million Americans who have extreme obesity  —   a body mass index of 40 or higher  —   and face a wide range of health concerns. Part of the problem, both patients and doctors say, is a reluctance to look beyond a fat person’s weight. Patty Nece, 58, of Alexandria, Va. went to an orthopedist because her hip was aching. She had lost nearly 70 pounds and, although she still had a way to go, was feeling good about herself. Until she saw the doctor. “He came to the door of the exam room, and I started to tell him my symptoms,” Ms. Nece said. “He said: ‘Let me cut to the chase. You need to lose weight. ’” The doctor, she said, never examined her. But he made a diagnosis, “obesity pain,” and relayed it to her internist. In fact, she later learned, she had progressive scoliosis, a condition not caused by obesity. Dr. Louis J. Aronne, an obesity specialist at Weill Cornell Medicine, helped found the American Board of Obesity Medicine to address this sort of issue. The goal is to help doctors learn how to treat obesity and serve as a resource for patients seeking doctors who can look past their weight when they have a medical problem. Dr. Aronne says patients recount stories like Ms. Nece’s to him all the time. “Our patients say: ‘Nobody has ever treated me like I have a serious problem. They blow it off and tell me to go to Weight Watchers,’” Dr. Aronne said. “Physicians need better education, and they need a different attitude toward people who have obesity,” he said. “They need to recognize that this is a disease like diabetes or any other disease they are treating people for. ” The issues facing obese people follow them through the medical system, starting with the physical exam. Research has shown that doctors may spend less time with obese patients and fail to refer them for diagnostic tests. One study asked 122 primary care doctors affiliated with one of three hospitals within the Texas Medical Center in Houston about their attitudes toward obese patients. The doctors “reported that seeing patients was a greater waste of their time the heavier that they were, that physicians would like their jobs less as their patients increased in size, that heavier patients were viewed to be more annoying, and that physicians felt less patience the heavier the patient was,” the researchers wrote. Other times, doctors may be unwittingly influenced by unfounded assumptions, attributing symptoms like shortness of breath to the person’s weight without investigating other likely causes. That happened to a patient who eventually went to see Dr. Scott Kahan, an obesity specialist at Georgetown University. The patient, a    woman, suddenly found it almost impossible to walk from her bedroom to her kitchen. Those few steps left her gasping for breath. Frightened, she went to a local urgent care center, where the doctor said she had a lot of weight pressing on her lungs. The only thing wrong with her, the doctor said, was that she was fat. “I started to cry,” said the woman, who asked not to be named to protect her privacy. “I said: ‘I don’t have a sudden weight pressing on my lungs. I’m really scared. I’m not able to breathe. ’” “That’s the problem with obesity,” she said the doctor told her. “Have you ever considered going on a diet?” It turned out that the woman had several small blood clots in her lungs, a   condition, Dr. Kahan said. For many, the next step in a diagnosis involves a scan, like a CT or M. R. I. But many extremely heavy people cannot fit in the scanners, which, depending on the model, typically have weight limits of 350 to 450 pounds. Scanners that can handle very heavy people are manufactured, but one national survey found that at least 90 percent of emergency rooms did not have them. Even four in five community hospitals that were deemed bariatric surgery centers of excellence lacked scanners that could handle very heavy people. Yet CT or M. R. I. imaging is needed to evaluate patients with a variety of ailments, including trauma, acute abdominal pain, lung blood clots and strokes. When an obese patient cannot fit in a scanner, doctors may just give up. Some use   to scan, hoping for the best. Others resort to more extreme measures. Dr. Kahan said another doctor had sent one of his patients to a zoo for a scan. She was so humiliated that she declined requests for an interview. Problems do not end with a diagnosis. With treatments, uncertainties continue to abound. In cancer, for example, obese patients tend to have worse outcomes and a higher risk of death  —   a difference that holds for every type of cancer. The disease of obesity might exacerbate cancer, said Dr. Clifford Hudis, the chief executive officer of the American Society of Clinical Oncology. But, he added, another reason for poor outcomes in obese cancer patients is almost certainly that medical care is compromised. Drug doses are usually based on standard body sizes or surface areas. The definition of a standard size, Dr. Hudis said, is often based on data involving people from decades ago, when the average person was thinner. For fat people, that might lead to underdosing for some drugs, but it is hard to know without studying specific drug effects in heavier people, and such studies are generally not done. Without that data, if someone does not respond to a cancer drug, it is impossible to know whether the dose was wrong or the patient’s tumor was just resisting the drug. One of the most frequent medical problems in obese patients is arthritis of the hip or knee. It is so common, in fact, that most patients arriving at orthopedists’ offices in agonizing pain from hip or knee arthritis are obese. But many orthopedists will not offer surgery unless the patients first lose weight, said Dr. Adolph J. Yates Jr. an orthopedics professor at the University of Pittsburgh School of Medicine. “There are offices that will screen by phone,” Dr. Yates said. “They will ask for weight and height and tell patients before they see them that they can’t help them. ” But how well grounded are those weight limits? “There is a perception among some surgeons that it is more difficult, and certainly some felt it was an added risk,” to operate on very obese people, Dr. Yates said. He was a member of a committee that reviewed the risks and benefits of joint replacement in obese patients for the American Association of Hip and Knee Surgeons. The group concluded that heavy patients should first be counseled to lose weight because a lower weight reduces stress on the joints and can alleviate pain without surgery. But there should not be blanket refusals to operate on fat people, the committee wrote. Those with a body mass index over 40  —   like a     woman weighing 250 pounds or a   man weighing 300  —   and who cannot lose weight should be informed that their risks are greater, but they should not be categorically dismissed, the group concluded. Dr. Yates said he had successfully operated on people with body mass indexes as high as 45. What is behind the refusals to operate, he said, is that doctors and hospitals have become   because they fear their ratings will fall if too many patients have complications. A lower score can mean reductions in reimbursements by Medicare. Poor results can also lead to penalties for hospitals and, eventually, doctors. A recent survey of more than 700 hip and knee surgeons confirmed Dr. Yates’s impressions.   percent said they used body mass index scores as cutoffs for requiring weight loss before offering surgery. But there was no consistency in the figures they picked. “The numbers were all over the map,” Dr. Yates said. And 42 percent who picked a body mass index cutoff said they had done so because they were worried about their performance score or that of their hospital. “It’s very common to pick an arbitrary B. M. I. number and say, ‘That is the number we won’t go above,’” Dr. Yates said. Yet a person with an index of, say, 41 might be healthy and active, he said, but in terrible pain from arthritis. A knee replacement could be life transforming. “It’s a   game, with everyone trying to have the   patient,” Dr. Yates said. “Patients who may be at a marginally higher risk may be treated as a class instead of individuals. That is the definition of discrimination. ” Surgery involves anesthesia, of course, giving rise to another issue. There are no requirements for drug makers to figure out appropriate doses for obese patients. Only a few medical experts, like Dr. Hendrikus Lemmens, a professor of anesthesiology at Stanford University, have tried to provide answers. His group looked at several drugs: propofol, which puts people to sleep before they get general anesthesia succinylcholine, used to relax muscles in the windpipe when a breathing tube must be inserted and anesthetic gases. Propofol doses, Dr. Lemmens found, should be based on lean body weight  —   the weight of the body minus its fat. Using total body weight, as is routine for   people, would result in an overdose for obese patients, he said. But succinylcholine doses should be based on total body weight, he determined, and the dosing of anesthetic gases is not significantly affected by obesity. As for regional anesthetics, he said, “There are very few data, but they probably should be dosed according to lean body weight. ” “Bad outcomes because of inappropriate dosing do occur,” said Dr. Lemmens, who added that 20 to 30 percent of all obese patients in intensive care after surgery were there because of anesthetic complications. Given the uncertainties about anesthetic doses for the obese, Dr. Lemmens said, he suspects that a significant number of them had inappropriate dosing. Yet for many fat people, the questions about appropriate medical care are beside the point because they stay away from doctors. “I have avoided going to a doctor at all,” said Sarai Walker, the author of “Dietland,” a novel. “That is very common with fat people. No matter what the problem is, the doctor will blame it on fat and will tell you to lose weight. ” “Do you think I don’t know I am fat?” she added.'"
      ]
     },
     "execution_count": 43,
     "metadata": {},
     "output_type": "execute_result"
    }
   ],
   "source": [
    "X_test.iloc[random_article]"
   ]
  },
  {
   "cell_type": "code",
   "execution_count": null,
   "id": "b7266082-86c9-4ce2-a664-8c95559d4569",
   "metadata": {},
   "outputs": [],
   "source": [
    "y_test.iloc[random_article]"
   ]
  }
 ],
 "metadata": {
  "kernelspec": {
   "display_name": "Python 3 (ipykernel)",
   "language": "python",
   "name": "python3"
  },
  "language_info": {
   "codemirror_mode": {
    "name": "ipython",
    "version": 3
   },
   "file_extension": ".py",
   "mimetype": "text/x-python",
   "name": "python",
   "nbconvert_exporter": "python",
   "pygments_lexer": "ipython3",
   "version": "3.11.4"
  }
 },
 "nbformat": 4,
 "nbformat_minor": 5
}
