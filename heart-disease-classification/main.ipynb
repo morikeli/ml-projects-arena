{
 "cells": [
  {
   "cell_type": "code",
   "execution_count": 1,
   "id": "373c9d1a-c241-4afe-a4b3-6b3e738e3ab9",
   "metadata": {},
   "outputs": [],
   "source": [
    "from sklearn.model_selection import train_test_split\n",
    "from sklearn.linear_model import LogisticRegression\n",
    "from sklearn.preprocessing import StandardScaler\n",
    "from sklearn.metrics import accuracy_score\n",
    "import pandas as pd\n",
    "import numpy as np"
   ]
  },
  {
   "cell_type": "code",
   "execution_count": 2,
   "id": "0fc4bc4b-7474-4248-9974-cc9d3ca82fa7",
   "metadata": {},
   "outputs": [],
   "source": [
    "heart_disease_dataset = pd.read_csv('dataset/heart_disease_data.csv')"
   ]
  },
  {
   "cell_type": "code",
   "execution_count": 3,
   "id": "17d14979-3fe8-4ab0-bcf8-b17038225231",
   "metadata": {},
   "outputs": [
    {
     "data": {
      "text/html": [
       "<div>\n",
       "<style scoped>\n",
       "    .dataframe tbody tr th:only-of-type {\n",
       "        vertical-align: middle;\n",
       "    }\n",
       "\n",
       "    .dataframe tbody tr th {\n",
       "        vertical-align: top;\n",
       "    }\n",
       "\n",
       "    .dataframe thead th {\n",
       "        text-align: right;\n",
       "    }\n",
       "</style>\n",
       "<table border=\"1\" class=\"dataframe\">\n",
       "  <thead>\n",
       "    <tr style=\"text-align: right;\">\n",
       "      <th></th>\n",
       "      <th>age</th>\n",
       "      <th>sex</th>\n",
       "      <th>cp</th>\n",
       "      <th>trestbps</th>\n",
       "      <th>chol</th>\n",
       "      <th>fbs</th>\n",
       "      <th>restecg</th>\n",
       "      <th>thalach</th>\n",
       "      <th>exang</th>\n",
       "      <th>oldpeak</th>\n",
       "      <th>slope</th>\n",
       "      <th>ca</th>\n",
       "      <th>thal</th>\n",
       "      <th>target</th>\n",
       "    </tr>\n",
       "  </thead>\n",
       "  <tbody>\n",
       "    <tr>\n",
       "      <th>0</th>\n",
       "      <td>63</td>\n",
       "      <td>1</td>\n",
       "      <td>3</td>\n",
       "      <td>145</td>\n",
       "      <td>233</td>\n",
       "      <td>1</td>\n",
       "      <td>0</td>\n",
       "      <td>150</td>\n",
       "      <td>0</td>\n",
       "      <td>2.3</td>\n",
       "      <td>0</td>\n",
       "      <td>0</td>\n",
       "      <td>1</td>\n",
       "      <td>1</td>\n",
       "    </tr>\n",
       "    <tr>\n",
       "      <th>1</th>\n",
       "      <td>37</td>\n",
       "      <td>1</td>\n",
       "      <td>2</td>\n",
       "      <td>130</td>\n",
       "      <td>250</td>\n",
       "      <td>0</td>\n",
       "      <td>1</td>\n",
       "      <td>187</td>\n",
       "      <td>0</td>\n",
       "      <td>3.5</td>\n",
       "      <td>0</td>\n",
       "      <td>0</td>\n",
       "      <td>2</td>\n",
       "      <td>1</td>\n",
       "    </tr>\n",
       "    <tr>\n",
       "      <th>2</th>\n",
       "      <td>41</td>\n",
       "      <td>0</td>\n",
       "      <td>1</td>\n",
       "      <td>130</td>\n",
       "      <td>204</td>\n",
       "      <td>0</td>\n",
       "      <td>0</td>\n",
       "      <td>172</td>\n",
       "      <td>0</td>\n",
       "      <td>1.4</td>\n",
       "      <td>2</td>\n",
       "      <td>0</td>\n",
       "      <td>2</td>\n",
       "      <td>1</td>\n",
       "    </tr>\n",
       "    <tr>\n",
       "      <th>3</th>\n",
       "      <td>56</td>\n",
       "      <td>1</td>\n",
       "      <td>1</td>\n",
       "      <td>120</td>\n",
       "      <td>236</td>\n",
       "      <td>0</td>\n",
       "      <td>1</td>\n",
       "      <td>178</td>\n",
       "      <td>0</td>\n",
       "      <td>0.8</td>\n",
       "      <td>2</td>\n",
       "      <td>0</td>\n",
       "      <td>2</td>\n",
       "      <td>1</td>\n",
       "    </tr>\n",
       "    <tr>\n",
       "      <th>4</th>\n",
       "      <td>57</td>\n",
       "      <td>0</td>\n",
       "      <td>0</td>\n",
       "      <td>120</td>\n",
       "      <td>354</td>\n",
       "      <td>0</td>\n",
       "      <td>1</td>\n",
       "      <td>163</td>\n",
       "      <td>1</td>\n",
       "      <td>0.6</td>\n",
       "      <td>2</td>\n",
       "      <td>0</td>\n",
       "      <td>2</td>\n",
       "      <td>1</td>\n",
       "    </tr>\n",
       "    <tr>\n",
       "      <th>5</th>\n",
       "      <td>57</td>\n",
       "      <td>1</td>\n",
       "      <td>0</td>\n",
       "      <td>140</td>\n",
       "      <td>192</td>\n",
       "      <td>0</td>\n",
       "      <td>1</td>\n",
       "      <td>148</td>\n",
       "      <td>0</td>\n",
       "      <td>0.4</td>\n",
       "      <td>1</td>\n",
       "      <td>0</td>\n",
       "      <td>1</td>\n",
       "      <td>1</td>\n",
       "    </tr>\n",
       "    <tr>\n",
       "      <th>6</th>\n",
       "      <td>56</td>\n",
       "      <td>0</td>\n",
       "      <td>1</td>\n",
       "      <td>140</td>\n",
       "      <td>294</td>\n",
       "      <td>0</td>\n",
       "      <td>0</td>\n",
       "      <td>153</td>\n",
       "      <td>0</td>\n",
       "      <td>1.3</td>\n",
       "      <td>1</td>\n",
       "      <td>0</td>\n",
       "      <td>2</td>\n",
       "      <td>1</td>\n",
       "    </tr>\n",
       "    <tr>\n",
       "      <th>7</th>\n",
       "      <td>44</td>\n",
       "      <td>1</td>\n",
       "      <td>1</td>\n",
       "      <td>120</td>\n",
       "      <td>263</td>\n",
       "      <td>0</td>\n",
       "      <td>1</td>\n",
       "      <td>173</td>\n",
       "      <td>0</td>\n",
       "      <td>0.0</td>\n",
       "      <td>2</td>\n",
       "      <td>0</td>\n",
       "      <td>3</td>\n",
       "      <td>1</td>\n",
       "    </tr>\n",
       "    <tr>\n",
       "      <th>8</th>\n",
       "      <td>52</td>\n",
       "      <td>1</td>\n",
       "      <td>2</td>\n",
       "      <td>172</td>\n",
       "      <td>199</td>\n",
       "      <td>1</td>\n",
       "      <td>1</td>\n",
       "      <td>162</td>\n",
       "      <td>0</td>\n",
       "      <td>0.5</td>\n",
       "      <td>2</td>\n",
       "      <td>0</td>\n",
       "      <td>3</td>\n",
       "      <td>1</td>\n",
       "    </tr>\n",
       "    <tr>\n",
       "      <th>9</th>\n",
       "      <td>57</td>\n",
       "      <td>1</td>\n",
       "      <td>2</td>\n",
       "      <td>150</td>\n",
       "      <td>168</td>\n",
       "      <td>0</td>\n",
       "      <td>1</td>\n",
       "      <td>174</td>\n",
       "      <td>0</td>\n",
       "      <td>1.6</td>\n",
       "      <td>2</td>\n",
       "      <td>0</td>\n",
       "      <td>2</td>\n",
       "      <td>1</td>\n",
       "    </tr>\n",
       "  </tbody>\n",
       "</table>\n",
       "</div>"
      ],
      "text/plain": [
       "   age  sex  cp  trestbps  chol  fbs  restecg  thalach  exang  oldpeak  slope  \\\n",
       "0   63    1   3       145   233    1        0      150      0      2.3      0   \n",
       "1   37    1   2       130   250    0        1      187      0      3.5      0   \n",
       "2   41    0   1       130   204    0        0      172      0      1.4      2   \n",
       "3   56    1   1       120   236    0        1      178      0      0.8      2   \n",
       "4   57    0   0       120   354    0        1      163      1      0.6      2   \n",
       "5   57    1   0       140   192    0        1      148      0      0.4      1   \n",
       "6   56    0   1       140   294    0        0      153      0      1.3      1   \n",
       "7   44    1   1       120   263    0        1      173      0      0.0      2   \n",
       "8   52    1   2       172   199    1        1      162      0      0.5      2   \n",
       "9   57    1   2       150   168    0        1      174      0      1.6      2   \n",
       "\n",
       "   ca  thal  target  \n",
       "0   0     1       1  \n",
       "1   0     2       1  \n",
       "2   0     2       1  \n",
       "3   0     2       1  \n",
       "4   0     2       1  \n",
       "5   0     1       1  \n",
       "6   0     2       1  \n",
       "7   0     3       1  \n",
       "8   0     3       1  \n",
       "9   0     2       1  "
      ]
     },
     "execution_count": 3,
     "metadata": {},
     "output_type": "execute_result"
    }
   ],
   "source": [
    "heart_disease_dataset.head(n=10)  # print the first 10 rows"
   ]
  },
  {
   "cell_type": "code",
   "execution_count": 5,
   "id": "6121e71c-a33d-4a18-8963-5b1316e4701a",
   "metadata": {},
   "outputs": [
    {
     "data": {
      "text/plain": [
       "(303, 14)"
      ]
     },
     "execution_count": 5,
     "metadata": {},
     "output_type": "execute_result"
    }
   ],
   "source": [
    "heart_disease_dataset.shape"
   ]
  },
  {
   "cell_type": "markdown",
   "id": "e516c62f-4272-4b0a-9fa1-d9c59bdc7e56",
   "metadata": {},
   "source": [
    "### Statistical measures of the dataset"
   ]
  },
  {
   "cell_type": "code",
   "execution_count": 6,
   "id": "3e5e81c0-ea14-45b9-9633-80cc4ad87f50",
   "metadata": {},
   "outputs": [
    {
     "data": {
      "text/html": [
       "<div>\n",
       "<style scoped>\n",
       "    .dataframe tbody tr th:only-of-type {\n",
       "        vertical-align: middle;\n",
       "    }\n",
       "\n",
       "    .dataframe tbody tr th {\n",
       "        vertical-align: top;\n",
       "    }\n",
       "\n",
       "    .dataframe thead th {\n",
       "        text-align: right;\n",
       "    }\n",
       "</style>\n",
       "<table border=\"1\" class=\"dataframe\">\n",
       "  <thead>\n",
       "    <tr style=\"text-align: right;\">\n",
       "      <th></th>\n",
       "      <th>age</th>\n",
       "      <th>sex</th>\n",
       "      <th>cp</th>\n",
       "      <th>trestbps</th>\n",
       "      <th>chol</th>\n",
       "      <th>fbs</th>\n",
       "      <th>restecg</th>\n",
       "      <th>thalach</th>\n",
       "      <th>exang</th>\n",
       "      <th>oldpeak</th>\n",
       "      <th>slope</th>\n",
       "      <th>ca</th>\n",
       "      <th>thal</th>\n",
       "      <th>target</th>\n",
       "    </tr>\n",
       "  </thead>\n",
       "  <tbody>\n",
       "    <tr>\n",
       "      <th>count</th>\n",
       "      <td>303.000000</td>\n",
       "      <td>303.000000</td>\n",
       "      <td>303.000000</td>\n",
       "      <td>303.000000</td>\n",
       "      <td>303.000000</td>\n",
       "      <td>303.000000</td>\n",
       "      <td>303.000000</td>\n",
       "      <td>303.000000</td>\n",
       "      <td>303.000000</td>\n",
       "      <td>303.000000</td>\n",
       "      <td>303.000000</td>\n",
       "      <td>303.000000</td>\n",
       "      <td>303.000000</td>\n",
       "      <td>303.000000</td>\n",
       "    </tr>\n",
       "    <tr>\n",
       "      <th>mean</th>\n",
       "      <td>54.366337</td>\n",
       "      <td>0.683168</td>\n",
       "      <td>0.966997</td>\n",
       "      <td>131.623762</td>\n",
       "      <td>246.264026</td>\n",
       "      <td>0.148515</td>\n",
       "      <td>0.528053</td>\n",
       "      <td>149.646865</td>\n",
       "      <td>0.326733</td>\n",
       "      <td>1.039604</td>\n",
       "      <td>1.399340</td>\n",
       "      <td>0.729373</td>\n",
       "      <td>2.313531</td>\n",
       "      <td>0.544554</td>\n",
       "    </tr>\n",
       "    <tr>\n",
       "      <th>std</th>\n",
       "      <td>9.082101</td>\n",
       "      <td>0.466011</td>\n",
       "      <td>1.032052</td>\n",
       "      <td>17.538143</td>\n",
       "      <td>51.830751</td>\n",
       "      <td>0.356198</td>\n",
       "      <td>0.525860</td>\n",
       "      <td>22.905161</td>\n",
       "      <td>0.469794</td>\n",
       "      <td>1.161075</td>\n",
       "      <td>0.616226</td>\n",
       "      <td>1.022606</td>\n",
       "      <td>0.612277</td>\n",
       "      <td>0.498835</td>\n",
       "    </tr>\n",
       "    <tr>\n",
       "      <th>min</th>\n",
       "      <td>29.000000</td>\n",
       "      <td>0.000000</td>\n",
       "      <td>0.000000</td>\n",
       "      <td>94.000000</td>\n",
       "      <td>126.000000</td>\n",
       "      <td>0.000000</td>\n",
       "      <td>0.000000</td>\n",
       "      <td>71.000000</td>\n",
       "      <td>0.000000</td>\n",
       "      <td>0.000000</td>\n",
       "      <td>0.000000</td>\n",
       "      <td>0.000000</td>\n",
       "      <td>0.000000</td>\n",
       "      <td>0.000000</td>\n",
       "    </tr>\n",
       "    <tr>\n",
       "      <th>25%</th>\n",
       "      <td>47.500000</td>\n",
       "      <td>0.000000</td>\n",
       "      <td>0.000000</td>\n",
       "      <td>120.000000</td>\n",
       "      <td>211.000000</td>\n",
       "      <td>0.000000</td>\n",
       "      <td>0.000000</td>\n",
       "      <td>133.500000</td>\n",
       "      <td>0.000000</td>\n",
       "      <td>0.000000</td>\n",
       "      <td>1.000000</td>\n",
       "      <td>0.000000</td>\n",
       "      <td>2.000000</td>\n",
       "      <td>0.000000</td>\n",
       "    </tr>\n",
       "    <tr>\n",
       "      <th>50%</th>\n",
       "      <td>55.000000</td>\n",
       "      <td>1.000000</td>\n",
       "      <td>1.000000</td>\n",
       "      <td>130.000000</td>\n",
       "      <td>240.000000</td>\n",
       "      <td>0.000000</td>\n",
       "      <td>1.000000</td>\n",
       "      <td>153.000000</td>\n",
       "      <td>0.000000</td>\n",
       "      <td>0.800000</td>\n",
       "      <td>1.000000</td>\n",
       "      <td>0.000000</td>\n",
       "      <td>2.000000</td>\n",
       "      <td>1.000000</td>\n",
       "    </tr>\n",
       "    <tr>\n",
       "      <th>75%</th>\n",
       "      <td>61.000000</td>\n",
       "      <td>1.000000</td>\n",
       "      <td>2.000000</td>\n",
       "      <td>140.000000</td>\n",
       "      <td>274.500000</td>\n",
       "      <td>0.000000</td>\n",
       "      <td>1.000000</td>\n",
       "      <td>166.000000</td>\n",
       "      <td>1.000000</td>\n",
       "      <td>1.600000</td>\n",
       "      <td>2.000000</td>\n",
       "      <td>1.000000</td>\n",
       "      <td>3.000000</td>\n",
       "      <td>1.000000</td>\n",
       "    </tr>\n",
       "    <tr>\n",
       "      <th>max</th>\n",
       "      <td>77.000000</td>\n",
       "      <td>1.000000</td>\n",
       "      <td>3.000000</td>\n",
       "      <td>200.000000</td>\n",
       "      <td>564.000000</td>\n",
       "      <td>1.000000</td>\n",
       "      <td>2.000000</td>\n",
       "      <td>202.000000</td>\n",
       "      <td>1.000000</td>\n",
       "      <td>6.200000</td>\n",
       "      <td>2.000000</td>\n",
       "      <td>4.000000</td>\n",
       "      <td>3.000000</td>\n",
       "      <td>1.000000</td>\n",
       "    </tr>\n",
       "  </tbody>\n",
       "</table>\n",
       "</div>"
      ],
      "text/plain": [
       "              age         sex          cp    trestbps        chol         fbs  \\\n",
       "count  303.000000  303.000000  303.000000  303.000000  303.000000  303.000000   \n",
       "mean    54.366337    0.683168    0.966997  131.623762  246.264026    0.148515   \n",
       "std      9.082101    0.466011    1.032052   17.538143   51.830751    0.356198   \n",
       "min     29.000000    0.000000    0.000000   94.000000  126.000000    0.000000   \n",
       "25%     47.500000    0.000000    0.000000  120.000000  211.000000    0.000000   \n",
       "50%     55.000000    1.000000    1.000000  130.000000  240.000000    0.000000   \n",
       "75%     61.000000    1.000000    2.000000  140.000000  274.500000    0.000000   \n",
       "max     77.000000    1.000000    3.000000  200.000000  564.000000    1.000000   \n",
       "\n",
       "          restecg     thalach       exang     oldpeak       slope          ca  \\\n",
       "count  303.000000  303.000000  303.000000  303.000000  303.000000  303.000000   \n",
       "mean     0.528053  149.646865    0.326733    1.039604    1.399340    0.729373   \n",
       "std      0.525860   22.905161    0.469794    1.161075    0.616226    1.022606   \n",
       "min      0.000000   71.000000    0.000000    0.000000    0.000000    0.000000   \n",
       "25%      0.000000  133.500000    0.000000    0.000000    1.000000    0.000000   \n",
       "50%      1.000000  153.000000    0.000000    0.800000    1.000000    0.000000   \n",
       "75%      1.000000  166.000000    1.000000    1.600000    2.000000    1.000000   \n",
       "max      2.000000  202.000000    1.000000    6.200000    2.000000    4.000000   \n",
       "\n",
       "             thal      target  \n",
       "count  303.000000  303.000000  \n",
       "mean     2.313531    0.544554  \n",
       "std      0.612277    0.498835  \n",
       "min      0.000000    0.000000  \n",
       "25%      2.000000    0.000000  \n",
       "50%      2.000000    1.000000  \n",
       "75%      3.000000    1.000000  \n",
       "max      3.000000    1.000000  "
      ]
     },
     "execution_count": 6,
     "metadata": {},
     "output_type": "execute_result"
    }
   ],
   "source": [
    "heart_disease_dataset.describe()"
   ]
  },
  {
   "cell_type": "markdown",
   "id": "baa37ec8-be07-4e1a-bc41-6cf7101bc143",
   "metadata": {},
   "source": [
    "### Check for missing values"
   ]
  },
  {
   "cell_type": "code",
   "execution_count": 8,
   "id": "2bb24b09-3255-4e35-a07e-a7d0666ce42a",
   "metadata": {},
   "outputs": [
    {
     "data": {
      "text/plain": [
       "age         0.0\n",
       "sex         0.0\n",
       "cp          0.0\n",
       "trestbps    0.0\n",
       "chol        0.0\n",
       "fbs         0.0\n",
       "restecg     0.0\n",
       "thalach     0.0\n",
       "exang       0.0\n",
       "oldpeak     0.0\n",
       "slope       0.0\n",
       "ca          0.0\n",
       "thal        0.0\n",
       "target      0.0\n",
       "dtype: float64"
      ]
     },
     "execution_count": 8,
     "metadata": {},
     "output_type": "execute_result"
    }
   ],
   "source": [
    "heart_disease_dataset.isnull().mean()"
   ]
  },
  {
   "cell_type": "markdown",
   "id": "1cdbfc13-11a3-40d3-920e-10df409aafa3",
   "metadata": {},
   "source": [
    "#### Check distribution of target variables, i.e. instances of defective heart or healthy heart"
   ]
  },
  {
   "cell_type": "code",
   "execution_count": 9,
   "id": "4d971fe0-72cd-45f4-885d-7d98a98e79ac",
   "metadata": {},
   "outputs": [
    {
     "data": {
      "text/plain": [
       "target\n",
       "1    165\n",
       "0    138\n",
       "Name: count, dtype: int64"
      ]
     },
     "execution_count": 9,
     "metadata": {},
     "output_type": "execute_result"
    }
   ],
   "source": [
    "heart_disease_dataset[\"target\"].value_counts()"
   ]
  },
  {
   "cell_type": "markdown",
   "id": "18fcb1d4-f2d9-4645-ae08-1bf251456ac5",
   "metadata": {},
   "source": [
    "#### 0 rep. healthy heart\n",
    "#### 1 rep. defective heart"
   ]
  },
  {
   "cell_type": "code",
   "execution_count": 39,
   "id": "4f6f708a-50cf-4b28-a167-ccc323ae8d2d",
   "metadata": {},
   "outputs": [],
   "source": [
    "# splitting data into features and labels\n",
    "X = heart_disease_dataset.drop(columns='target', axis=1)\n",
    "Y = heart_disease_dataset[\"target\"]"
   ]
  },
  {
   "cell_type": "code",
   "execution_count": 11,
   "id": "6394fcb0-801f-428b-83aa-068192644489",
   "metadata": {},
   "outputs": [
    {
     "name": "stdout",
     "output_type": "stream",
     "text": [
      "     age  sex  cp  trestbps  chol  fbs  restecg  thalach  exang  oldpeak  \\\n",
      "0     63    1   3       145   233    1        0      150      0      2.3   \n",
      "1     37    1   2       130   250    0        1      187      0      3.5   \n",
      "2     41    0   1       130   204    0        0      172      0      1.4   \n",
      "3     56    1   1       120   236    0        1      178      0      0.8   \n",
      "4     57    0   0       120   354    0        1      163      1      0.6   \n",
      "..   ...  ...  ..       ...   ...  ...      ...      ...    ...      ...   \n",
      "298   57    0   0       140   241    0        1      123      1      0.2   \n",
      "299   45    1   3       110   264    0        1      132      0      1.2   \n",
      "300   68    1   0       144   193    1        1      141      0      3.4   \n",
      "301   57    1   0       130   131    0        1      115      1      1.2   \n",
      "302   57    0   1       130   236    0        0      174      0      0.0   \n",
      "\n",
      "     slope  ca  thal  \n",
      "0        0   0     1  \n",
      "1        0   0     2  \n",
      "2        2   0     2  \n",
      "3        2   0     2  \n",
      "4        2   0     2  \n",
      "..     ...  ..   ...  \n",
      "298      1   0     3  \n",
      "299      1   0     3  \n",
      "300      1   2     3  \n",
      "301      1   1     3  \n",
      "302      1   1     2  \n",
      "\n",
      "[303 rows x 13 columns]\n"
     ]
    }
   ],
   "source": [
    "print(X)"
   ]
  },
  {
   "cell_type": "code",
   "execution_count": 12,
   "id": "eb7ed18e-8f1f-44a6-821b-827c1bfd345f",
   "metadata": {},
   "outputs": [
    {
     "name": "stdout",
     "output_type": "stream",
     "text": [
      "0      1\n",
      "1      1\n",
      "2      1\n",
      "3      1\n",
      "4      1\n",
      "      ..\n",
      "298    0\n",
      "299    0\n",
      "300    0\n",
      "301    0\n",
      "302    0\n",
      "Name: target, Length: 303, dtype: int64\n"
     ]
    }
   ],
   "source": [
    "print(Y)"
   ]
  },
  {
   "cell_type": "markdown",
   "id": "87549536-072c-41e4-baa8-a099ca86e896",
   "metadata": {},
   "source": [
    "#### Split data into train data and test data"
   ]
  },
  {
   "cell_type": "code",
   "execution_count": 50,
   "id": "4b48257e-fdac-4659-9c91-b5c3bb45df7a",
   "metadata": {},
   "outputs": [],
   "source": [
    "X_train, X_test, Y_train, Y_test = train_test_split(X, Y, test_size=0.2, stratify=Y, random_state=2)"
   ]
  },
  {
   "cell_type": "markdown",
   "id": "08f9ef6f-f1ee-45f1-b84a-6e8cf0d7cd04",
   "metadata": {},
   "source": [
    "##### Standardize dataset\n",
    "\n",
    "In this case, **X_train** and **X_test** are standardized"
   ]
  },
  {
   "cell_type": "code",
   "execution_count": 51,
   "id": "aa4aa45f-3de0-4745-bb5c-74ce726d6606",
   "metadata": {},
   "outputs": [],
   "source": [
    "scaler = StandardScaler()"
   ]
  },
  {
   "cell_type": "code",
   "execution_count": 52,
   "id": "24fda867-fa3c-47f5-bc12-b940e36c5269",
   "metadata": {},
   "outputs": [],
   "source": [
    "X_train_std = scaler.fit_transform(X_train)\n",
    "X_test_std = scaler.transform(X_test)"
   ]
  },
  {
   "cell_type": "code",
   "execution_count": 53,
   "id": "e6c015ca-715d-452d-8e89-e7c9d2cf2fb5",
   "metadata": {},
   "outputs": [
    {
     "name": "stdout",
     "output_type": "stream",
     "text": [
      "[[-0.04180248  0.69617712  0.04467671 ...  0.96628239 -0.69876652\n",
      "   1.18825929]\n",
      " [ 2.48724773  0.69617712 -0.93821081 ...  0.96628239  2.28537756\n",
      "  -0.50326276]\n",
      " [ 0.17811493  0.69617712  0.04467671 ... -2.30421185 -0.69876652\n",
      "  -0.50326276]\n",
      " ...\n",
      " [ 1.49761939  0.69617712 -0.93821081 ... -0.66896473  1.29066287\n",
      "   1.18825929]\n",
      " [ 0.61794975  0.69617712  1.02756422 ... -0.66896473 -0.69876652\n",
      "  -0.50326276]\n",
      " [-0.59159601 -1.43641607  0.04467671 ... -0.66896473 -0.69876652\n",
      "  -0.50326276]]\n"
     ]
    }
   ],
   "source": [
    "print(X_train_std)"
   ]
  },
  {
   "cell_type": "code",
   "execution_count": 54,
   "id": "d85f2cdc-e301-4aed-9ba7-bec550592c31",
   "metadata": {},
   "outputs": [
    {
     "name": "stdout",
     "output_type": "stream",
     "text": [
      "[[-1.03143083  0.69617712 -0.93821081  0.67190529  1.17731284 -0.39735971\n",
      "  -1.00386825 -0.16057723  1.4500221  -0.89200846 -0.66896473  2.28537756\n",
      "   1.18825929]\n",
      " [-2.79077011  0.69617712  0.04467671 -0.04125734 -0.78243294 -0.39735971\n",
      "  -1.00386825  2.34503    -0.68964466 -0.89200846  0.96628239 -0.69876652\n",
      "  -0.50326276]\n",
      " [-0.26171989  0.69617712  2.01045173  1.26620749  0.97200614  2.51661148\n",
      "   0.87935746  1.25167412 -0.68964466  0.17224485 -0.66896473 -0.69876652\n",
      "   1.18825929]\n",
      " [-0.04180248  0.69617712 -0.93821081 -0.5166991   0.74803519 -0.39735971\n",
      "  -1.00386825 -1.57282858  1.4500221   1.94600038 -0.66896473  1.29066287\n",
      "  -0.50326276]\n",
      " [-0.26171989  0.69617712  1.02756422  0.43418441 -0.42781227 -0.39735971\n",
      "   0.87935746  0.84166566 -0.68964466 -0.89200846  0.96628239  3.28009226\n",
      "  -0.50326276]\n",
      " [ 1.49761939 -1.43641607  1.02756422 -0.63555954 -0.65178322 -0.39735971\n",
      "  -1.00386825 -1.61838508 -0.68964466  0.43830818 -0.66896473 -0.69876652\n",
      "  -0.50326276]\n",
      " [ 0.06815622  0.69617712 -0.93821081  0.0776031   1.99853964 -0.39735971\n",
      "   0.87935746 -0.84392466  1.4500221   0.17224485 -0.66896473  0.29594817\n",
      "   1.18825929]\n",
      " [ 0.61794975  0.69617712 -0.93821081  0.55304485  0.87868491 -0.39735971\n",
      "  -1.00386825  0.88722216 -0.68964466  0.17224485 -0.66896473  1.29066287\n",
      "   1.18825929]\n",
      " [-1.03143083 -1.43641607 -0.93821081  0.43418441 -0.18517708 -0.39735971\n",
      "  -1.00386825  0.06720524  1.4500221  -0.71463291 -0.66896473 -0.69876652\n",
      "  -0.50326276]\n",
      " [ 1.27770198  0.69617712 -0.93821081 -0.63555954  1.04666312 -0.39735971\n",
      "  -1.00386825  0.02164875 -0.68964466 -0.53725736 -0.66896473 -0.69876652\n",
      "  -0.50326276]\n",
      " [-0.26171989  0.69617712  0.04467671 -0.63555954  1.47594077 -0.39735971\n",
      "   0.87935746  0.97833515 -0.68964466 -0.71463291  0.96628239 -0.69876652\n",
      "  -0.50326276]\n",
      " [-0.59159601  0.69617712  1.02756422 -0.63555954 -1.08106086 -0.39735971\n",
      "   0.87935746 -0.52502919 -0.68964466  0.88174706 -0.66896473  2.28537756\n",
      "   1.18825929]\n",
      " [ 0.83786716 -1.43641607 -0.93821081  1.74164924 -1.52900275 -0.39735971\n",
      "  -1.00386825 -0.25169022 -0.68964466  4.60663367 -2.30421185  2.28537756\n",
      "   1.18825929]\n",
      " [-0.59159601  0.69617712  1.02756422 -0.75441998 -1.80896644 -0.39735971\n",
      "  -1.00386825 -1.11726363 -0.68964466 -0.18250625  0.96628239  2.28537756\n",
      "  -0.50326276]\n",
      " [-0.04180248 -1.43641607  1.02756422  0.25589376  1.08399161  2.51661148\n",
      "   0.87935746  0.88722216 -0.68964466 -0.89200846  0.96628239 -0.69876652\n",
      "  -0.50326276]\n",
      " [-0.3716786  -1.43641607  1.02756422  0.55304485  1.15864859 -0.39735971\n",
      "  -1.00386825 -0.38835971 -0.68964466  0.43830818  0.96628239  0.29594817\n",
      "  -0.50326276]\n",
      " [ 1.05778457  0.69617712 -0.93821081 -0.16011778  0.31875755 -0.39735971\n",
      "   0.87935746 -2.07395003  1.4500221  -0.71463291 -0.66896473  0.29594817\n",
      "   1.18825929]\n",
      " [ 0.39803234  0.69617712  0.04467671 -0.63555954  0.7107067  -0.39735971\n",
      "  -1.00386825  0.4316572  -0.68964466  0.70437151 -0.66896473 -0.69876652\n",
      "  -0.50326276]\n",
      " [-1.69118306  0.69617712 -0.93821081 -0.75441998 -0.50246925 -0.39735971\n",
      "   0.87935746 -0.4794727  -0.68964466  0.17224485 -0.66896473 -0.69876652\n",
      "   1.18825929]\n",
      " [-1.47126565  0.69617712  1.02756422 -1.11100129  0.07612236 -0.39735971\n",
      "   0.87935746  1.29723061 -0.68964466 -0.89200846  0.96628239 -0.69876652\n",
      "  -0.50326276]\n",
      " [ 0.50799104  0.69617712  2.01045173  2.33595144  0.78536368 -0.39735971\n",
      "  -1.00386825  0.38610071 -0.68964466 -0.71463291 -0.66896473 -0.69876652\n",
      "   1.18825929]\n",
      " [-0.3716786   0.69617712  2.01045173 -0.33840844 -0.61445473 -0.39735971\n",
      "  -1.00386825 -1.16282013  1.4500221   0.34962041  0.96628239  0.29594817\n",
      "  -0.50326276]\n",
      " [-0.15176119 -1.43641607  1.02756422 -0.16011778 -0.55846199 -0.39735971\n",
      "  -1.00386825 -1.61838508 -0.68964466 -0.89200846  0.96628239 -0.69876652\n",
      "  -3.88630684]\n",
      " [-0.92147212  0.69617712  1.02756422  1.14734705 -0.27849831 -0.39735971\n",
      "   0.87935746 -0.16057723 -0.68964466  2.30075149 -0.66896473 -0.69876652\n",
      "  -0.50326276]\n",
      " [ 0.28807363 -1.43641607 -0.93821081  0.55304485 -0.09185585 -0.39735971\n",
      "   0.87935746 -1.25393312  1.4500221  -0.71463291 -0.66896473 -0.69876652\n",
      "   1.18825929]\n",
      " [ 1.27770198 -1.43641607 -0.93821081  2.8113932  -0.33449104  2.51661148\n",
      "   0.87935746  0.65943968  1.4500221  -0.0051307  -0.66896473  1.29066287\n",
      "   1.18825929]\n",
      " [ 1.7175368   0.69617712  1.02756422  1.74164924  0.43074302 -0.39735971\n",
      "   0.87935746 -1.75505456  1.4500221   1.67993705 -0.66896473  0.29594817\n",
      "   1.18825929]\n",
      " [ 0.06815622  0.69617712 -0.93821081  1.74164924  0.80402793 -0.39735971\n",
      "  -1.00386825 -0.25169022  1.4500221  -0.18250625 -0.66896473  0.29594817\n",
      "   1.18825929]\n",
      " [-0.59159601 -1.43641607 -0.93821081 -0.04125734  0.43074302 -0.39735971\n",
      "   0.87935746  0.56832669 -0.68964466 -0.89200846  0.96628239 -0.69876652\n",
      "  -0.50326276]\n",
      " [-0.15176119  0.69617712 -0.93821081  0.67190529 -0.37181953 -0.39735971\n",
      "  -1.00386825 -1.80061106  1.4500221  -0.89200846  0.96628239 -0.69876652\n",
      "   1.18825929]\n",
      " [ 1.7175368   0.69617712  0.04467671  1.50392837 -0.01719887 -0.39735971\n",
      "  -1.00386825 -0.34280321 -0.68964466 -0.89200846  0.96628239 -0.69876652\n",
      "  -0.50326276]\n",
      " [ 0.28807363  0.69617712  1.02756422  1.14734705 -1.45434577 -0.39735971\n",
      "   0.87935746  1.06944814 -0.68964466  0.52699596  0.96628239 -0.69876652\n",
      "  -0.50326276]\n",
      " [ 1.49761939  0.69617712  1.02756422 -0.75441998  0.58005698 -0.39735971\n",
      "   0.87935746  0.02164875 -0.68964466 -0.0051307   0.96628239  0.29594817\n",
      "   1.18825929]\n",
      " [ 1.38766068  0.69617712 -0.93821081 -0.63555954 -0.16651283 -0.39735971\n",
      "   0.87935746 -3.62287086 -0.68964466 -0.0051307  -0.66896473 -0.69876652\n",
      "  -0.50326276]\n",
      " [ 0.17811493  0.69617712 -0.93821081 -0.04125734  0.69204246  2.51661148\n",
      "  -1.00386825 -2.16506302  1.4500221   0.52699596 -2.30421185 -0.69876652\n",
      "   1.18825929]\n",
      " [ 0.83786716  0.69617712 -0.93821081 -0.63555954  0.39341453 -0.39735971\n",
      "   0.87935746 -2.347289    1.4500221   0.70437151 -0.66896473  1.29066287\n",
      "   1.18825929]\n",
      " [-0.70155471  0.69617712  1.02756422 -0.39783866  0.16944358  2.51661148\n",
      "   0.87935746  1.11500463 -0.68964466 -0.89200846  0.96628239  1.29066287\n",
      "  -0.50326276]\n",
      " [-0.15176119  0.69617712 -0.93821081  0.55304485 -0.80109718  2.51661148\n",
      "  -1.00386825  0.20387473  1.4500221   1.8573126  -2.30421185 -0.69876652\n",
      "   1.18825929]\n",
      " [-0.26171989  0.69617712 -0.93821081 -1.34872217 -0.24116982  2.51661148\n",
      "   0.87935746 -0.16057723 -0.68964466 -0.80332068  0.96628239  2.28537756\n",
      "   1.18825929]\n",
      " [-1.91110047  0.69617712  1.02756422 -0.04125734  0.07612236 -0.39735971\n",
      "   0.87935746  1.66168257 -0.68964466  2.21206371 -2.30421185 -0.69876652\n",
      "  -0.50326276]\n",
      " [-1.14138953  0.69617712 -0.93821081 -1.11100129  0.82269218 -0.39735971\n",
      "  -1.00386825  0.11276174 -0.68964466 -0.89200846  0.96628239  0.29594817\n",
      "  -0.50326276]\n",
      " [-0.26171989  0.69617712 -0.93821081 -0.16011778 -0.78243294  2.51661148\n",
      "   0.87935746  0.24943122  1.4500221  -0.0051307  -0.66896473 -0.69876652\n",
      "  -3.88630684]\n",
      " [ 0.28807363  0.69617712  1.02756422  1.14734705 -2.23824408  2.51661148\n",
      "   0.87935746  1.02389164 -0.68964466 -0.71463291  0.96628239  0.29594817\n",
      "   1.18825929]\n",
      " [-1.47126565  0.69617712  0.04467671  0.25589376 -0.80109718 -0.39735971\n",
      "   0.87935746 -0.84392466 -0.68964466 -0.89200846 -0.66896473 -0.69876652\n",
      "  -2.1947848 ]\n",
      " [ 0.72790845  0.69617712  2.01045173  0.19646354 -0.22250557 -0.39735971\n",
      "   0.87935746 -0.25169022 -0.68964466  1.41387372 -0.66896473  1.29066287\n",
      "  -0.50326276]\n",
      " [-0.04180248  0.69617712  1.02756422  1.14734705 -0.25983406 -0.39735971\n",
      "  -1.00386825  0.65943968 -0.68964466  0.52699596  0.96628239 -0.69876652\n",
      "   1.18825929]\n",
      " [-1.36130694  0.69617712 -0.93821081  0.55304485 -0.37181953 -0.39735971\n",
      "   0.87935746  1.25167412 -0.68964466 -0.89200846  0.96628239 -0.69876652\n",
      "  -0.50326276]\n",
      " [ 0.61794975 -1.43641607 -0.93821081  1.14734705  0.22543632 -0.39735971\n",
      "  -1.00386825  0.29498772 -0.68964466  1.41387372 -0.66896473  1.29066287\n",
      "   1.18825929]\n",
      " [-0.04180248 -1.43641607  1.02756422 -1.22986173 -0.59579048 -0.39735971\n",
      "   0.87935746  0.34054421 -0.68964466  0.52699596 -0.66896473 -0.69876652\n",
      "  -0.50326276]\n",
      " [ 1.49761939  0.69617712  1.02756422  2.93025364  0.52406425  2.51661148\n",
      "  -1.00386825 -0.02390775  1.4500221   0.52699596 -0.66896473 -0.69876652\n",
      "   1.18825929]\n",
      " [ 0.17811493 -1.43641607 -0.93821081  4.11885803  0.78536368  2.51661148\n",
      "  -1.00386825 -0.79836816  1.4500221   2.65550259 -2.30421185  1.29066287\n",
      "   1.18825929]\n",
      " [ 1.38766068 -1.43641607 -0.93821081 -1.46758261 -0.42781227 -0.39735971\n",
      "   0.87935746 -0.38835971 -0.68964466 -0.62594513  0.96628239  1.29066287\n",
      "  -0.50326276]\n",
      " [ 0.39803234  0.69617712 -0.93821081  1.14734705  0.44940727 -0.39735971\n",
      "  -1.00386825 -1.80061106  1.4500221  -0.18250625  0.96628239 -0.69876652\n",
      "   1.18825929]\n",
      " [-1.03143083  0.69617712 -0.93821081 -0.93271064  0.26276481 -0.39735971\n",
      "  -1.00386825  1.57056958 -0.68964466 -0.89200846  0.96628239 -0.69876652\n",
      "  -0.50326276]\n",
      " [ 0.28807363 -1.43641607 -0.93821081 -0.16011778  1.06532737 -0.39735971\n",
      "  -1.00386825  0.38610071 -0.68964466 -0.89200846  0.96628239  0.29594817\n",
      "  -0.50326276]\n",
      " [ 0.83786716 -1.43641607  1.02756422 -0.04125734  0.31875755 -0.39735971\n",
      "   0.87935746 -2.43840199 -0.68964466  0.17224485 -0.66896473  0.29594817\n",
      "   1.18825929]\n",
      " [-1.03143083  0.69617712 -0.93821081 -1.58644305 -0.70777595 -0.39735971\n",
      "  -1.00386825 -0.11502074  1.4500221   1.76862483 -0.66896473 -0.69876652\n",
      "  -0.50326276]\n",
      " [-0.04180248  0.69617712 -0.93821081 -0.39783866  0.37475028 -0.39735971\n",
      "  -1.00386825 -1.89172405  1.4500221   1.05912262 -0.66896473  0.29594817\n",
      "   1.18825929]\n",
      " [-0.26171989  0.69617712  1.02756422  2.45481188 -0.87575416  2.51661148\n",
      "   0.87935746  0.52277019 -0.68964466 -0.44856958  0.96628239 -0.69876652\n",
      "   1.18825929]\n",
      " [-1.47126565 -1.43641607  1.02756422 -1.11100129  0.41207877 -0.39735971\n",
      "  -1.00386825  0.97833515  1.4500221  -0.89200846  0.96628239 -0.69876652\n",
      "  -0.50326276]\n",
      " [ 1.60757809 -1.43641607  2.01045173  0.55304485 -0.12918434 -0.39735971\n",
      "   0.87935746  0.02164875 -0.68964466  0.70437151  0.96628239  1.29066287\n",
      "  -0.50326276]]\n"
     ]
    }
   ],
   "source": [
    "print(X_test_std)"
   ]
  },
  {
   "cell_type": "code",
   "execution_count": 55,
   "id": "de8c0fff-b17b-4bb7-80d5-de564c2d5112",
   "metadata": {},
   "outputs": [],
   "source": [
    "# load an instance of LogisticRegression\n",
    "model = LogisticRegression()"
   ]
  },
  {
   "cell_type": "code",
   "execution_count": 56,
   "id": "166a51b6-a7f8-4f2f-b7f7-b0c03f3fd5a1",
   "metadata": {},
   "outputs": [
    {
     "data": {
      "text/html": [
       "<style>#sk-container-id-2 {color: black;}#sk-container-id-2 pre{padding: 0;}#sk-container-id-2 div.sk-toggleable {background-color: white;}#sk-container-id-2 label.sk-toggleable__label {cursor: pointer;display: block;width: 100%;margin-bottom: 0;padding: 0.3em;box-sizing: border-box;text-align: center;}#sk-container-id-2 label.sk-toggleable__label-arrow:before {content: \"▸\";float: left;margin-right: 0.25em;color: #696969;}#sk-container-id-2 label.sk-toggleable__label-arrow:hover:before {color: black;}#sk-container-id-2 div.sk-estimator:hover label.sk-toggleable__label-arrow:before {color: black;}#sk-container-id-2 div.sk-toggleable__content {max-height: 0;max-width: 0;overflow: hidden;text-align: left;background-color: #f0f8ff;}#sk-container-id-2 div.sk-toggleable__content pre {margin: 0.2em;color: black;border-radius: 0.25em;background-color: #f0f8ff;}#sk-container-id-2 input.sk-toggleable__control:checked~div.sk-toggleable__content {max-height: 200px;max-width: 100%;overflow: auto;}#sk-container-id-2 input.sk-toggleable__control:checked~label.sk-toggleable__label-arrow:before {content: \"▾\";}#sk-container-id-2 div.sk-estimator input.sk-toggleable__control:checked~label.sk-toggleable__label {background-color: #d4ebff;}#sk-container-id-2 div.sk-label input.sk-toggleable__control:checked~label.sk-toggleable__label {background-color: #d4ebff;}#sk-container-id-2 input.sk-hidden--visually {border: 0;clip: rect(1px 1px 1px 1px);clip: rect(1px, 1px, 1px, 1px);height: 1px;margin: -1px;overflow: hidden;padding: 0;position: absolute;width: 1px;}#sk-container-id-2 div.sk-estimator {font-family: monospace;background-color: #f0f8ff;border: 1px dotted black;border-radius: 0.25em;box-sizing: border-box;margin-bottom: 0.5em;}#sk-container-id-2 div.sk-estimator:hover {background-color: #d4ebff;}#sk-container-id-2 div.sk-parallel-item::after {content: \"\";width: 100%;border-bottom: 1px solid gray;flex-grow: 1;}#sk-container-id-2 div.sk-label:hover label.sk-toggleable__label {background-color: #d4ebff;}#sk-container-id-2 div.sk-serial::before {content: \"\";position: absolute;border-left: 1px solid gray;box-sizing: border-box;top: 0;bottom: 0;left: 50%;z-index: 0;}#sk-container-id-2 div.sk-serial {display: flex;flex-direction: column;align-items: center;background-color: white;padding-right: 0.2em;padding-left: 0.2em;position: relative;}#sk-container-id-2 div.sk-item {position: relative;z-index: 1;}#sk-container-id-2 div.sk-parallel {display: flex;align-items: stretch;justify-content: center;background-color: white;position: relative;}#sk-container-id-2 div.sk-item::before, #sk-container-id-2 div.sk-parallel-item::before {content: \"\";position: absolute;border-left: 1px solid gray;box-sizing: border-box;top: 0;bottom: 0;left: 50%;z-index: -1;}#sk-container-id-2 div.sk-parallel-item {display: flex;flex-direction: column;z-index: 1;position: relative;background-color: white;}#sk-container-id-2 div.sk-parallel-item:first-child::after {align-self: flex-end;width: 50%;}#sk-container-id-2 div.sk-parallel-item:last-child::after {align-self: flex-start;width: 50%;}#sk-container-id-2 div.sk-parallel-item:only-child::after {width: 0;}#sk-container-id-2 div.sk-dashed-wrapped {border: 1px dashed gray;margin: 0 0.4em 0.5em 0.4em;box-sizing: border-box;padding-bottom: 0.4em;background-color: white;}#sk-container-id-2 div.sk-label label {font-family: monospace;font-weight: bold;display: inline-block;line-height: 1.2em;}#sk-container-id-2 div.sk-label-container {text-align: center;}#sk-container-id-2 div.sk-container {/* jupyter's `normalize.less` sets `[hidden] { display: none; }` but bootstrap.min.css set `[hidden] { display: none !important; }` so we also need the `!important` here to be able to override the default hidden behavior on the sphinx rendered scikit-learn.org. See: https://github.com/scikit-learn/scikit-learn/issues/21755 */display: inline-block !important;position: relative;}#sk-container-id-2 div.sk-text-repr-fallback {display: none;}</style><div id=\"sk-container-id-2\" class=\"sk-top-container\"><div class=\"sk-text-repr-fallback\"><pre>LogisticRegression()</pre><b>In a Jupyter environment, please rerun this cell to show the HTML representation or trust the notebook. <br />On GitHub, the HTML representation is unable to render, please try loading this page with nbviewer.org.</b></div><div class=\"sk-container\" hidden><div class=\"sk-item\"><div class=\"sk-estimator sk-toggleable\"><input class=\"sk-toggleable__control sk-hidden--visually\" id=\"sk-estimator-id-2\" type=\"checkbox\" checked><label for=\"sk-estimator-id-2\" class=\"sk-toggleable__label sk-toggleable__label-arrow\">LogisticRegression</label><div class=\"sk-toggleable__content\"><pre>LogisticRegression()</pre></div></div></div></div></div>"
      ],
      "text/plain": [
       "LogisticRegression()"
      ]
     },
     "execution_count": 56,
     "metadata": {},
     "output_type": "execute_result"
    }
   ],
   "source": [
    "model.fit(X_train_std, Y_train)"
   ]
  },
  {
   "cell_type": "markdown",
   "id": "096564a1-389f-4696-bda8-2e0bf3ea4652",
   "metadata": {},
   "source": [
    "#### Model evaluation\n",
    "Determine accuracy scores of train data and test data to check for model underfit or model overfit"
   ]
  },
  {
   "cell_type": "code",
   "execution_count": 58,
   "id": "f9d014cb-92dd-471d-9353-3d602deb4cdb",
   "metadata": {},
   "outputs": [],
   "source": [
    "# 1. train data\n",
    "\n",
    "X_train_prediction = model.predict(X_train_std)\n",
    "train_data_prediction = accuracy_score(Y_train, X_train_prediction)"
   ]
  },
  {
   "cell_type": "code",
   "execution_count": 46,
   "id": "0ff921d5-a1ed-4aa2-9f33-95f616b8c09f",
   "metadata": {},
   "outputs": [
    {
     "name": "stdout",
     "output_type": "stream",
     "text": [
      "Accuracy score (train data): 0.8264462809917356\n"
     ]
    }
   ],
   "source": [
    "print(f'Accuracy score (train data): {train_data_prediction}')"
   ]
  },
  {
   "cell_type": "code",
   "execution_count": 64,
   "id": "1182ead5-8d42-4d1e-8e43-ca2b435d6fe1",
   "metadata": {},
   "outputs": [],
   "source": [
    "# 2. test data\n",
    "\n",
    "X_test_prediction = model.predict(X_test_std)\n",
    "test_data_prediction = accuracy_score(X_test_prediction, Y_test)"
   ]
  },
  {
   "cell_type": "code",
   "execution_count": 65,
   "id": "a030c8e0-7091-42d8-ac2a-68d9c2941b54",
   "metadata": {},
   "outputs": [
    {
     "name": "stdout",
     "output_type": "stream",
     "text": [
      "Accuracy score (test data): 0.7868852459016393\n"
     ]
    }
   ],
   "source": [
    "print(f'Accuracy score (test data): {test_data_prediction}')"
   ]
  },
  {
   "cell_type": "markdown",
   "id": "9bfe2e33-7396-48f3-b3d3-9372facfe063",
   "metadata": {},
   "source": [
    "#### Build a predictive system"
   ]
  },
  {
   "cell_type": "code",
   "execution_count": 81,
   "id": "ac37126c-3131-4c8d-895d-dab127e91771",
   "metadata": {},
   "outputs": [
    {
     "name": "stdout",
     "output_type": "stream",
     "text": [
      "[0]\n",
      "Patient has a healthy heart.\n"
     ]
    },
    {
     "name": "stderr",
     "output_type": "stream",
     "text": [
      "/home/brocode/Documents/Coding/Python/ml-projects/.venv/lib/python3.11/site-packages/sklearn/base.py:465: UserWarning: X does not have valid feature names, but StandardScaler was fitted with feature names\n",
      "  warnings.warn(\n"
     ]
    }
   ],
   "source": [
    "input_data = [\n",
    "    62,0,0,160,164,0,0,145,0,6.2,0,3,3\n",
    "]   # the list contains set of values that will be used to make predictions\n",
    "\n",
    "# convert input_data to numpy array\n",
    "input_data_array = np.asarray(input_data)\n",
    "\n",
    "# reshape array\n",
    "reshaped_input_data_array = input_data_array.reshape(1, -1)\n",
    "\n",
    "# standardize values in input_data\n",
    "std_input_data = scaler.transform(reshaped_input_data_array)\n",
    "\n",
    "# predict\n",
    "prediction = model.predict(std_input_data)\n",
    "\n",
    "print(prediction)\n",
    "\n",
    "if prediction[0] == 0:\n",
    "    print('Patient has a healthy heart.')\n",
    "else:\n",
    "    print('Patient has a defective heart!')\n"
   ]
  }
 ],
 "metadata": {
  "kernelspec": {
   "display_name": "Python 3 (ipykernel)",
   "language": "python",
   "name": "python3"
  },
  "language_info": {
   "codemirror_mode": {
    "name": "ipython",
    "version": 3
   },
   "file_extension": ".py",
   "mimetype": "text/x-python",
   "name": "python",
   "nbconvert_exporter": "python",
   "pygments_lexer": "ipython3",
   "version": "3.11.4"
  }
 },
 "nbformat": 4,
 "nbformat_minor": 5
}
